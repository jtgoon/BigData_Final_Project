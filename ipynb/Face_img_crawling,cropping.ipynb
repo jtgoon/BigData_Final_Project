{
 "cells": [
  {
   "cell_type": "code",
   "execution_count": 53,
   "id": "3797a1c7",
   "metadata": {},
   "outputs": [],
   "source": [
    "from selenium import webdriver\n",
    "from selenium.webdriver.common.keys import Keys\n",
    "import time\n",
    "import urllib.request\n",
    "import ssl\n",
    "import os\n",
    "import cv2"
   ]
  },
  {
   "cell_type": "markdown",
   "id": "5aa6dadc",
   "metadata": {},
   "source": [
    "### 얼굴형별 대표 연예인 \n",
    "\n",
    "+ Heart_peoples = ['강미나' , '이솜' , '사나' , '신민아', '유라']\n",
    "+ Oblong_peoples = ['지숙', '선미', '려원', '로제', '이지아']\n",
    "+ Oval_peoples = ['한예슬', '김태희', '이나은', '윤아', '김사랑']\n",
    "+ Round_peoples = ['고현정', '유이', '윤은혜', '김하늘', '소희']\n",
    "+ Square_peoples = ['정유미',  '한효주', '고현정', '제니', '문채원']"
   ]
  },
  {
   "cell_type": "code",
   "execution_count": 9,
   "id": "570ff114",
   "metadata": {},
   "outputs": [],
   "source": [
    "### 얼굴형 종류\n",
    "\n",
    "face_shapes = ['heart', 'oblong', 'oval', 'round', 'square']"
   ]
  },
  {
   "cell_type": "code",
   "execution_count": 3,
   "id": "bd068b8b",
   "metadata": {},
   "outputs": [],
   "source": [
    "### 얼굴형 폴더 만들기\n",
    "\n",
    "for face_shape in face_shapes:\n",
    "    folder = './'+face_shape\n",
    "    os.mkdir(folder)"
   ]
  },
  {
   "cell_type": "code",
   "execution_count": null,
   "id": "753ff76a",
   "metadata": {},
   "outputs": [],
   "source": [
    "### 특정 url로 request하거나 urlopen시 아래와 같은 에러가 발생하는 경우해결\n",
    "\n",
    "ssl._create_default_https_context = ssl._create_unverified_context\n",
    "\n",
    "driver = webdriver.Chrome('/Users/hanjaemin/PycharmProjects/acorn/chromedriver')\n",
    "driver.get(\"https://www.google.co.kr/imghp?hl=ko&tab=ri&ogbl\")"
   ]
  },
  {
   "cell_type": "code",
   "execution_count": 4,
   "id": "a06ccb8a",
   "metadata": {},
   "outputs": [],
   "source": [
    "### crawling 함수\n",
    "\n",
    "def faceimg_crawling(shape, *peoples):\n",
    "    count = 0\n",
    "    for people in peoples:\n",
    "        driver.get(\"https://www.google.co.kr/imghp?hl=ko&tab=ri&ogbl\")\n",
    "        elem = driver.find_element_by_name(\"q\")\n",
    "        keyword = elem.send_keys(people)\n",
    "        elem.send_keys(Keys.RETURN)\n",
    "        images = driver.find_elements_by_css_selector(\".rg_i.Q4LuWd\")\n",
    "\n",
    "        for image in images:\n",
    "            try:\n",
    "                image.click()\n",
    "                time.sleep(1)\n",
    "                imgUrl = (driver.find_element_by_xpath('/html/body/div[2]/c-wiz/div[3]/div[2]/div[3]/div/div/div[3]/div[2]/c-wiz/div/div[1]/div[1]/div[2]/div/a/img').get_attribute(\"src\"))\n",
    "                urllib.request.urlretrieve(imgUrl,f''+'./'+shape+'/'+ str(count)+\".jpg\")\n",
    "            except:\n",
    "                continue\n",
    "            count += 1\n",
    "            if count %30 ==0 :\n",
    "                break"
   ]
  },
  {
   "cell_type": "code",
   "execution_count": 5,
   "id": "18dda0db",
   "metadata": {},
   "outputs": [],
   "source": [
    "### crawling 함수 실행\n",
    "\n",
    "faceimg_crawling('heart', '강미나', '이솜', '사나', '신민아', '유라')\n",
    "faceimg_crawling('oblong', '지숙', '선미', '려원', '로제', '이지아')\n",
    "faceimg_crawling('oval', '한예슬', '김태희', '이나은', '윤아', '김사랑')\n",
    "faceimg_crawling('round', '고현정', '유이', '윤은혜', '김하늘', '소희')\n",
    "faceimg_crawling('square', '정유미', '한효주', '고현정', '제니', '문채원')"
   ]
  },
  {
   "cell_type": "code",
   "execution_count": 54,
   "id": "044b584c",
   "metadata": {},
   "outputs": [],
   "source": [
    "### cropping한 사진 폴더 만들기\n",
    "\n",
    "for face_shape in face_shapes:\n",
    "    folder = './'+face_shape+'real'\n",
    "    os.mkdir(folder)"
   ]
  },
  {
   "cell_type": "code",
   "execution_count": 50,
   "id": "eb5d9caa",
   "metadata": {},
   "outputs": [],
   "source": [
    "face_cascade = cv2.CascadeClassifier('/Users/hanjaemin/opt/anaconda3/pkgs/libopencv-3.4.2-h7c891bd_1/share/OpenCV/haarcascades/haarcascade_frontalface_default.xml')\n",
    "eye_casecade = cv2.CascadeClassifier('/Users/hanjaemin/opt/anaconda3/pkgs/libopencv-3.4.2-h7c891bd_1/share/OpenCV/haarcascades/haarcascade_eye.xml')\n",
    "\n",
    "###cropping 함수\n",
    "\n",
    "def cropping(shape):\n",
    "    for i in range(img_count):\n",
    "        try:\n",
    "            img = cv2.imread('/Users/hanjaemin/PycharmProjects/acorn/'+shape+'/'+str(i)+'.jpg')\n",
    "            gray = cv2.cvtColor(img, cv2.COLOR_BGR2GRAY)\n",
    "            faces = face_cascade.detectMultiScale(gray, 1.3,5)\n",
    "        except:\n",
    "            continue\n",
    "\n",
    "        for (x,y,w,h) in faces:\n",
    "            cropped = img[y - int(h / 4):y + h + int(h / 4), x - int(w / 4):x + w + int(w / 4)]\n",
    "            # 이미지를 저장\n",
    "            path = '/Users/hanjaemin/PycharmProjects/acorn/'+shape+'real'\n",
    "            cv2.imwrite(os.path.join(path, str(i)) + \".jpg\", cropped)\n",
    "\n"
   ]
  },
  {
   "cell_type": "code",
   "execution_count": 51,
   "id": "24e1fdb1",
   "metadata": {},
   "outputs": [],
   "source": [
    "### cropping 함수실행\n",
    "\n",
    "cropping('heart')\n",
    "cropping('oblong')\n",
    "cropping('oval')\n",
    "cropping('round')\n",
    "cropping('square')"
   ]
  }
 ],
 "metadata": {
  "kernelspec": {
   "display_name": "Python [conda env:myenv] *",
   "language": "python",
   "name": "conda-env-myenv-py"
  },
  "language_info": {
   "codemirror_mode": {
    "name": "ipython",
    "version": 3
   },
   "file_extension": ".py",
   "mimetype": "text/x-python",
   "name": "python",
   "nbconvert_exporter": "python",
   "pygments_lexer": "ipython3",
   "version": "3.7.0"
  }
 },
 "nbformat": 4,
 "nbformat_minor": 5
}
