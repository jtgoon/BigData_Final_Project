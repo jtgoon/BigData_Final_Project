{
 "cells": [
  {
   "cell_type": "code",
   "execution_count": 1,
   "id": "aaf4ed9c",
   "metadata": {},
   "outputs": [],
   "source": [
    "import numpy as np\n",
    "import pandas as pd\n",
    "import matplotlib.pyplot as plt\n",
    "import seaborn as sns\n",
    "\n",
    "import warnings\n",
    "warnings.filterwarnings(action=\"ignore\")\n",
    "\n",
    "import matplotlib.font_manager as fm\n",
    "font_name = fm.FontProperties(fname=\"C:/Windows/Fonts/malgun.ttf\").get_name()\n",
    "plt.rc(\"font\", family=font_name)\n",
    "\n",
    "import matplotlib as mpl\n",
    "mpl.rcParams[\"axes.unicode_minus\"] = False\n",
    "\n",
    "import tensorflow as tf\n",
    "from tensorflow import keras\n",
    "from tensorflow.keras import layers\n",
    "\n",
    "from sklearn.model_selection import train_test_split\n",
    "from sklearn.preprocessing import MinMaxScaler"
   ]
  },
  {
   "cell_type": "markdown",
   "id": "068b0fff",
   "metadata": {},
   "source": [
    "# 예산 데이터가 없는 영화 데이터"
   ]
  },
  {
   "cell_type": "markdown",
   "id": "b1d6aabb",
   "metadata": {},
   "source": [
    "## 1. 데이터 불러오기"
   ]
  },
  {
   "cell_type": "code",
   "execution_count": 2,
   "id": "cb32d4ef",
   "metadata": {},
   "outputs": [],
   "source": [
    "movie_one_hot = pd.read_csv('../data/Preprocessing_movie_data/final_data.csv', parse_dates=['openingdate'])"
   ]
  },
  {
   "cell_type": "code",
   "execution_count": 3,
   "id": "935dd1e4",
   "metadata": {},
   "outputs": [
    {
     "data": {
      "text/html": [
       "<div>\n",
       "<style scoped>\n",
       "    .dataframe tbody tr th:only-of-type {\n",
       "        vertical-align: middle;\n",
       "    }\n",
       "\n",
       "    .dataframe tbody tr th {\n",
       "        vertical-align: top;\n",
       "    }\n",
       "\n",
       "    .dataframe thead th {\n",
       "        text-align: right;\n",
       "    }\n",
       "</style>\n",
       "<table border=\"1\" class=\"dataframe\">\n",
       "  <thead>\n",
       "    <tr style=\"text-align: right;\">\n",
       "      <th></th>\n",
       "      <th>moviename</th>\n",
       "      <th>openingdate</th>\n",
       "      <th>attendance</th>\n",
       "      <th>screen</th>\n",
       "      <th>playcount</th>\n",
       "      <th>director</th>\n",
       "      <th>actor</th>\n",
       "      <th>openingmonth</th>\n",
       "      <th>country_abroad</th>\n",
       "      <th>country_domestic</th>\n",
       "      <th>...</th>\n",
       "      <th>genre_fear</th>\n",
       "      <th>genre_mystery</th>\n",
       "      <th>genre_romance</th>\n",
       "      <th>genre_sf</th>\n",
       "      <th>genre_thriller</th>\n",
       "      <th>filmrank_G_rated</th>\n",
       "      <th>filmrank_PG 12</th>\n",
       "      <th>filmrank_PG 15</th>\n",
       "      <th>filmrank_X_rated</th>\n",
       "      <th>sales</th>\n",
       "    </tr>\n",
       "  </thead>\n",
       "  <tbody>\n",
       "    <tr>\n",
       "      <th>0</th>\n",
       "      <td>극한직업</td>\n",
       "      <td>2019-01-23</td>\n",
       "      <td>16265618</td>\n",
       "      <td>2003</td>\n",
       "      <td>292584</td>\n",
       "      <td>6834886</td>\n",
       "      <td>3</td>\n",
       "      <td>1</td>\n",
       "      <td>0</td>\n",
       "      <td>1</td>\n",
       "      <td>...</td>\n",
       "      <td>0</td>\n",
       "      <td>0</td>\n",
       "      <td>0</td>\n",
       "      <td>0</td>\n",
       "      <td>0</td>\n",
       "      <td>0</td>\n",
       "      <td>0</td>\n",
       "      <td>1</td>\n",
       "      <td>0</td>\n",
       "      <td>139651845516</td>\n",
       "    </tr>\n",
       "    <tr>\n",
       "      <th>1</th>\n",
       "      <td>명량</td>\n",
       "      <td>2014-07-30</td>\n",
       "      <td>17613682</td>\n",
       "      <td>1587</td>\n",
       "      <td>188611</td>\n",
       "      <td>8982706</td>\n",
       "      <td>3</td>\n",
       "      <td>7</td>\n",
       "      <td>0</td>\n",
       "      <td>1</td>\n",
       "      <td>...</td>\n",
       "      <td>0</td>\n",
       "      <td>0</td>\n",
       "      <td>0</td>\n",
       "      <td>0</td>\n",
       "      <td>0</td>\n",
       "      <td>0</td>\n",
       "      <td>1</td>\n",
       "      <td>0</td>\n",
       "      <td>0</td>\n",
       "      <td>135748398910</td>\n",
       "    </tr>\n",
       "    <tr>\n",
       "      <th>2</th>\n",
       "      <td>어벤져스: 엔드게임</td>\n",
       "      <td>2019-04-24</td>\n",
       "      <td>13934592</td>\n",
       "      <td>2835</td>\n",
       "      <td>242001</td>\n",
       "      <td>10224854</td>\n",
       "      <td>3</td>\n",
       "      <td>4</td>\n",
       "      <td>1</td>\n",
       "      <td>0</td>\n",
       "      <td>...</td>\n",
       "      <td>0</td>\n",
       "      <td>0</td>\n",
       "      <td>0</td>\n",
       "      <td>0</td>\n",
       "      <td>0</td>\n",
       "      <td>0</td>\n",
       "      <td>1</td>\n",
       "      <td>0</td>\n",
       "      <td>0</td>\n",
       "      <td>122182694160</td>\n",
       "    </tr>\n",
       "    <tr>\n",
       "      <th>3</th>\n",
       "      <td>베테랑</td>\n",
       "      <td>2015-08-05</td>\n",
       "      <td>13414009</td>\n",
       "      <td>1115</td>\n",
       "      <td>199231</td>\n",
       "      <td>7576385</td>\n",
       "      <td>3</td>\n",
       "      <td>8</td>\n",
       "      <td>0</td>\n",
       "      <td>1</td>\n",
       "      <td>...</td>\n",
       "      <td>0</td>\n",
       "      <td>0</td>\n",
       "      <td>0</td>\n",
       "      <td>0</td>\n",
       "      <td>0</td>\n",
       "      <td>0</td>\n",
       "      <td>0</td>\n",
       "      <td>1</td>\n",
       "      <td>0</td>\n",
       "      <td>105168155250</td>\n",
       "    </tr>\n",
       "    <tr>\n",
       "      <th>4</th>\n",
       "      <td>신과함께-인과 연</td>\n",
       "      <td>2018-08-01</td>\n",
       "      <td>12274996</td>\n",
       "      <td>2235</td>\n",
       "      <td>179981</td>\n",
       "      <td>6491963</td>\n",
       "      <td>3</td>\n",
       "      <td>8</td>\n",
       "      <td>0</td>\n",
       "      <td>1</td>\n",
       "      <td>...</td>\n",
       "      <td>0</td>\n",
       "      <td>0</td>\n",
       "      <td>0</td>\n",
       "      <td>0</td>\n",
       "      <td>0</td>\n",
       "      <td>0</td>\n",
       "      <td>1</td>\n",
       "      <td>0</td>\n",
       "      <td>0</td>\n",
       "      <td>102666146909</td>\n",
       "    </tr>\n",
       "  </tbody>\n",
       "</table>\n",
       "<p>5 rows × 31 columns</p>\n",
       "</div>"
      ],
      "text/plain": [
       "    moviename openingdate  attendance  screen  playcount  director  actor  \\\n",
       "0        극한직업  2019-01-23    16265618    2003     292584   6834886      3   \n",
       "1          명량  2014-07-30    17613682    1587     188611   8982706      3   \n",
       "2  어벤져스: 엔드게임  2019-04-24    13934592    2835     242001  10224854      3   \n",
       "3         베테랑  2015-08-05    13414009    1115     199231   7576385      3   \n",
       "4   신과함께-인과 연  2018-08-01    12274996    2235     179981   6491963      3   \n",
       "\n",
       "   openingmonth  country_abroad  country_domestic  ...  genre_fear  \\\n",
       "0             1               0                 1  ...           0   \n",
       "1             7               0                 1  ...           0   \n",
       "2             4               1                 0  ...           0   \n",
       "3             8               0                 1  ...           0   \n",
       "4             8               0                 1  ...           0   \n",
       "\n",
       "   genre_mystery  genre_romance  genre_sf  genre_thriller  filmrank_G_rated  \\\n",
       "0              0              0         0               0                 0   \n",
       "1              0              0         0               0                 0   \n",
       "2              0              0         0               0                 0   \n",
       "3              0              0         0               0                 0   \n",
       "4              0              0         0               0                 0   \n",
       "\n",
       "   filmrank_PG 12  filmrank_PG 15  filmrank_X_rated         sales  \n",
       "0               0               1                 0  139651845516  \n",
       "1               1               0                 0  135748398910  \n",
       "2               1               0                 0  122182694160  \n",
       "3               0               1                 0  105168155250  \n",
       "4               1               0                 0  102666146909  \n",
       "\n",
       "[5 rows x 31 columns]"
      ]
     },
     "execution_count": 3,
     "metadata": {},
     "output_type": "execute_result"
    }
   ],
   "source": [
    "movie_one_hot.head()"
   ]
  },
  {
   "cell_type": "code",
   "execution_count": 4,
   "id": "9ce002c4",
   "metadata": {},
   "outputs": [],
   "source": [
    "movie_filmrank_list = ['g', '15', 'x', '12']\n",
    "movie_filmranks = []\n",
    "for path in movie_filmrank_list:\n",
    "    movie_filmranks.append(pd.read_csv('../data/Preprocessing_movie_data/movie_filmrank_'+path+'.csv',\n",
    "                          parse_dates=['openingdate']))"
   ]
  },
  {
   "cell_type": "markdown",
   "id": "2829ee02",
   "metadata": {},
   "source": [
    "### 2. Regression"
   ]
  },
  {
   "cell_type": "markdown",
   "id": "647bc3ae",
   "metadata": {},
   "source": [
    "#### 2-1 category : filmrank"
   ]
  },
  {
   "cell_type": "code",
   "execution_count": 5,
   "id": "dcfd68fa",
   "metadata": {},
   "outputs": [
    {
     "data": {
      "text/plain": [
       "Index(['moviename', 'openingdate', 'sales', 'attendance', 'screen',\n",
       "       'playcount', 'country', 'country_label', 'distributor',\n",
       "       'distributor_label', 'director', 'genre', 'genre_label', 'actor',\n",
       "       'openingmonth'],\n",
       "      dtype='object')"
      ]
     },
     "execution_count": 5,
     "metadata": {},
     "output_type": "execute_result"
    }
   ],
   "source": [
    "movie_filmranks[0].columns"
   ]
  },
  {
   "cell_type": "code",
   "execution_count": 6,
   "id": "aacd6217",
   "metadata": {},
   "outputs": [
    {
     "name": "stdout",
     "output_type": "stream",
     "text": [
      "(186, 19)\n",
      "(398, 25)\n",
      "(120, 22)\n",
      "(317, 25)\n"
     ]
    }
   ],
   "source": [
    "col = ['sales', 'attendance', 'screen', 'playcount', 'country',\n",
    "       'distributor', 'director', 'genre', 'actor', 'openingmonth']\n",
    "one_hot_col = ['country', 'distributor', 'genre']\n",
    "filmrank_one_hot = []\n",
    "for filmrank in movie_filmranks:\n",
    "    filmrank = filmrank[col]\n",
    "    one_hot = pd.get_dummies(filmrank, columns=one_hot_col)\n",
    "    filmrank_one_hot.append(one_hot)\n",
    "\n",
    "for rank in filmrank_one_hot:\n",
    "    print(rank.shape)"
   ]
  },
  {
   "cell_type": "code",
   "execution_count": 7,
   "id": "796fdcf5",
   "metadata": {},
   "outputs": [
    {
     "name": "stdout",
     "output_type": "stream",
     "text": [
      "   attendance  screen  playcount  director  actor  openingmonth  \\\n",
      "0    10296101    1010     157683   5337414      2             1   \n",
      "1     5062720     948     101338   4523766      6             5   \n",
      "2     4743264    1936     126496   3141537      3             7   \n",
      "3     4969735     931      84000   4969735      3             7   \n",
      "4     4706158     735     131005   4706158      3             2   \n",
      "\n",
      "   country_abroad  country_domestic  distributor_etc_distributor  \\\n",
      "0               1                 0                            0   \n",
      "1               1                 0                            0   \n",
      "2               1                 0                            0   \n",
      "3               1                 0                            0   \n",
      "4               1                 0                            0   \n",
      "\n",
      "   distributor_major_abroad  distributor_major_domestic  genre_action  \\\n",
      "0                         1                           0             0   \n",
      "1                         0                           1             0   \n",
      "2                         1                           0             0   \n",
      "3                         1                           0             0   \n",
      "4                         1                           0             0   \n",
      "\n",
      "   genre_adventure  genre_animation  genre_comedy  genre_drama  genre_etc  \\\n",
      "0                0                1             0            0          0   \n",
      "1                0                1             0            0          0   \n",
      "2                1                0             0            0          0   \n",
      "3                0                1             0            0          0   \n",
      "4                0                1             0            0          0   \n",
      "\n",
      "   genre_fantasy  \n",
      "0              0  \n",
      "1              0  \n",
      "2              0  \n",
      "3              0  \n",
      "4              0  \n",
      "[82461504400 44298708500 41519457430 38024694936 37096057742]\n",
      "   attendance  screen  playcount  director  actor  openingmonth  \\\n",
      "0    16265618    2003     292584   6834886      3             1   \n",
      "1    13414009    1115     199231   7576385      3             8   \n",
      "2    12186327    1906     184075   6849425      3             8   \n",
      "3    12983178    1091     155392  12983178      3             7   \n",
      "4    11565479    1788     151315   5455944      3             7   \n",
      "\n",
      "   country_abroad  country_domestic  distributor_etc_distributor  \\\n",
      "0               0                 1                            0   \n",
      "1               0                 1                            0   \n",
      "2               0                 1                            0   \n",
      "3               0                 1                            0   \n",
      "4               0                 1                            0   \n",
      "\n",
      "   distributor_major_abroad  ...  genre_comedy  genre_crime  genre_drama  \\\n",
      "0                         0  ...             1            0            0   \n",
      "1                         0  ...             0            0            0   \n",
      "2                         0  ...             0            0            1   \n",
      "3                         0  ...             0            1            0   \n",
      "4                         0  ...             0            0            0   \n",
      "\n",
      "   genre_etc  genre_fantasy  genre_fear  genre_mystery  genre_romance  \\\n",
      "0          0              0           0              0              0   \n",
      "1          0              0           0              0              0   \n",
      "2          0              0           0              0              0   \n",
      "3          0              0           0              0              0   \n",
      "4          0              0           0              0              0   \n",
      "\n",
      "   genre_sf  genre_thriller  \n",
      "0         0               0  \n",
      "1         0               0  \n",
      "2         0               0  \n",
      "3         0               0  \n",
      "4         0               0  \n",
      "\n",
      "[5 rows x 24 columns]\n",
      "[139651845516 105168155250  95853645649  93664808500  93178283048]\n",
      "   attendance  screen  playcount  director  actor  openingmonth  \\\n",
      "0     7055332    1129     152265   2977866      3            11   \n",
      "1     6129681     728     139988   4536339      3             2   \n",
      "2     6178248     501     109853   2347992      2             8   \n",
      "3     4945484    1687      95922   4536339      3             9   \n",
      "4     5604103     779      88062   5604103      3             8   \n",
      "\n",
      "   country_abroad  country_domestic  distributor_etc_distributor  \\\n",
      "0               0                 1                            0   \n",
      "1               1                 0                            1   \n",
      "2               0                 1                            0   \n",
      "3               1                 0                            1   \n",
      "4               0                 1                            0   \n",
      "\n",
      "   distributor_major_abroad  ...  genre_action  genre_comedy  genre_crime  \\\n",
      "0                         0  ...             0             0            1   \n",
      "1                         0  ...             1             0            0   \n",
      "2                         0  ...             1             0            0   \n",
      "3                         0  ...             1             0            0   \n",
      "4                         0  ...             0             0            0   \n",
      "\n",
      "   genre_drama  genre_etc  genre_fear  genre_mystery  genre_romance  genre_sf  \\\n",
      "0            0          0           0              0              0         0   \n",
      "1            0          0           0              0              0         0   \n",
      "2            0          0           0              0              0         0   \n",
      "3            0          0           0              0              0         0   \n",
      "4            0          0           0              0              0         0   \n",
      "\n",
      "   genre_thriller  \n",
      "0               0  \n",
      "1               0  \n",
      "2               0  \n",
      "3               0  \n",
      "4               1  \n",
      "\n",
      "[5 rows x 21 columns]\n",
      "[56465665657 50369009795 47101332000 40987484736 39602977500]\n",
      "   attendance  screen  playcount  director  actor  openingmonth  \\\n",
      "0    17613682    1587     188611   8982706      3             7   \n",
      "1    13934592    2835     242001  10224854      3             4   \n",
      "2    12274996    2235     179981   6491963      3             8   \n",
      "3    11212710    2553     240501  10224854      3             4   \n",
      "4    10494499    1843     191778  10494499      3             4   \n",
      "\n",
      "   country_abroad  country_domestic  distributor_etc_distributor  \\\n",
      "0               0                 1                            0   \n",
      "1               1                 0                            0   \n",
      "2               0                 1                            0   \n",
      "3               1                 0                            0   \n",
      "4               1                 0                            0   \n",
      "\n",
      "   distributor_major_abroad  ...  genre_comedy  genre_crime  genre_drama  \\\n",
      "0                         0  ...             0            0            0   \n",
      "1                         1  ...             0            0            0   \n",
      "2                         0  ...             0            0            0   \n",
      "3                         1  ...             0            0            0   \n",
      "4                         1  ...             0            0            0   \n",
      "\n",
      "   genre_etc  genre_fantasy  genre_fear  genre_mystery  genre_romance  \\\n",
      "0          1              0           0              0              0   \n",
      "1          0              0           0              0              0   \n",
      "2          0              1           0              0              0   \n",
      "3          0              0           0              0              0   \n",
      "4          0              0           0              0              0   \n",
      "\n",
      "   genre_sf  genre_thriller  \n",
      "0         0               0  \n",
      "1         0               0  \n",
      "2         0               0  \n",
      "3         0               0  \n",
      "4         0               0  \n",
      "\n",
      "[5 rows x 24 columns]\n",
      "[135748398910 122182694160 102666146909  99926399769  88582586366]\n"
     ]
    }
   ],
   "source": [
    "x = []\n",
    "y = []\n",
    "for rank in filmrank_one_hot:\n",
    "    x.append(rank.iloc[:, 1:])\n",
    "    y.append(rank.iloc[:, 0].to_numpy())\n",
    "\n",
    "for i in range(len(x)):\n",
    "    print(x[i].head())\n",
    "    print(y[i][:5])"
   ]
  },
  {
   "cell_type": "code",
   "execution_count": 8,
   "id": "499a959e",
   "metadata": {},
   "outputs": [],
   "source": [
    "for i in range(len(x)):\n",
    "    sc = MinMaxScaler()\n",
    "    sc.fit(x[i])\n",
    "    x_scale = sc.transform(x[i])\n",
    "    x[i] = pd.DataFrame(data=x_scale, columns=x[i].columns.tolist())"
   ]
  },
  {
   "cell_type": "code",
   "execution_count": 9,
   "id": "b0794f61",
   "metadata": {},
   "outputs": [],
   "source": [
    "data = []\n",
    "for i in range(len(x)):\n",
    "    x_train, x_test, y_train, y_test = train_test_split(x[i], y[i], random_state=42)\n",
    "    data.append([x_train, x_test, y_train, y_test])"
   ]
  },
  {
   "cell_type": "code",
   "execution_count": 10,
   "id": "4f55f7aa",
   "metadata": {},
   "outputs": [],
   "source": [
    "def build_model(input_shape):\n",
    "    model = keras.Sequential([\n",
    "        layers.Dense(256, activation='relu', input_shape=(input_shape,)),\n",
    "        layers.Dense(256, activation='relu'),\n",
    "        layers.Dense(256, activation='relu'),\n",
    "        layers.Dense(256, activation='relu'),\n",
    "        layers.Dense(1)\n",
    "    ])\n",
    "    \n",
    "    optimizer = tf.keras.optimizers.Adam(0.1)\n",
    "    \n",
    "    model.compile(loss='mse',\n",
    "                 optimizer=optimizer,\n",
    "                 metrics=['mae', 'mse'])\n",
    "    \n",
    "    return model"
   ]
  },
  {
   "cell_type": "code",
   "execution_count": 11,
   "id": "5c43d2bd",
   "metadata": {},
   "outputs": [
    {
     "name": "stdout",
     "output_type": "stream",
     "text": [
      "Model: \"sequential\"\n",
      "_________________________________________________________________\n",
      " Layer (type)                Output Shape              Param #   \n",
      "=================================================================\n",
      " dense (Dense)               (None, 256)               4864      \n",
      "                                                                 \n",
      " dense_1 (Dense)             (None, 256)               65792     \n",
      "                                                                 \n",
      " dense_2 (Dense)             (None, 256)               65792     \n",
      "                                                                 \n",
      " dense_3 (Dense)             (None, 256)               65792     \n",
      "                                                                 \n",
      " dense_4 (Dense)             (None, 1)                 257       \n",
      "                                                                 \n",
      "=================================================================\n",
      "Total params: 202,497\n",
      "Trainable params: 202,497\n",
      "Non-trainable params: 0\n",
      "_________________________________________________________________\n",
      "Model: \"sequential_1\"\n",
      "_________________________________________________________________\n",
      " Layer (type)                Output Shape              Param #   \n",
      "=================================================================\n",
      " dense_5 (Dense)             (None, 256)               6400      \n",
      "                                                                 \n",
      " dense_6 (Dense)             (None, 256)               65792     \n",
      "                                                                 \n",
      " dense_7 (Dense)             (None, 256)               65792     \n",
      "                                                                 \n",
      " dense_8 (Dense)             (None, 256)               65792     \n",
      "                                                                 \n",
      " dense_9 (Dense)             (None, 1)                 257       \n",
      "                                                                 \n",
      "=================================================================\n",
      "Total params: 204,033\n",
      "Trainable params: 204,033\n",
      "Non-trainable params: 0\n",
      "_________________________________________________________________\n",
      "Model: \"sequential_2\"\n",
      "_________________________________________________________________\n",
      " Layer (type)                Output Shape              Param #   \n",
      "=================================================================\n",
      " dense_10 (Dense)            (None, 256)               5632      \n",
      "                                                                 \n",
      " dense_11 (Dense)            (None, 256)               65792     \n",
      "                                                                 \n",
      " dense_12 (Dense)            (None, 256)               65792     \n",
      "                                                                 \n",
      " dense_13 (Dense)            (None, 256)               65792     \n",
      "                                                                 \n",
      " dense_14 (Dense)            (None, 1)                 257       \n",
      "                                                                 \n",
      "=================================================================\n",
      "Total params: 203,265\n",
      "Trainable params: 203,265\n",
      "Non-trainable params: 0\n",
      "_________________________________________________________________\n",
      "Model: \"sequential_3\"\n",
      "_________________________________________________________________\n",
      " Layer (type)                Output Shape              Param #   \n",
      "=================================================================\n",
      " dense_15 (Dense)            (None, 256)               6400      \n",
      "                                                                 \n",
      " dense_16 (Dense)            (None, 256)               65792     \n",
      "                                                                 \n",
      " dense_17 (Dense)            (None, 256)               65792     \n",
      "                                                                 \n",
      " dense_18 (Dense)            (None, 256)               65792     \n",
      "                                                                 \n",
      " dense_19 (Dense)            (None, 1)                 257       \n",
      "                                                                 \n",
      "=================================================================\n",
      "Total params: 204,033\n",
      "Trainable params: 204,033\n",
      "Non-trainable params: 0\n",
      "_________________________________________________________________\n"
     ]
    }
   ],
   "source": [
    "models = []\n",
    "for i in range(len(data)):\n",
    "    models.append(build_model(len(data[i][0].columns)))\n",
    "    models[i].summary()"
   ]
  },
  {
   "cell_type": "code",
   "execution_count": 12,
   "id": "6df4024e",
   "metadata": {},
   "outputs": [],
   "source": [
    "epochs = 2000\n",
    "\n",
    "early_stop = keras.callbacks.EarlyStopping(monitor='val_loss', patience=10)\n",
    "\n",
    "histories = []\n",
    "\n",
    "for i in range(len(data)):\n",
    "    history = models[i].fit(\n",
    "        data[i][0], data[i][2],\n",
    "        epochs=epochs, validation_split=0.2, verbose=0,\n",
    "        callbacks=[early_stop]\n",
    "    )\n",
    "    histories.append(history)"
   ]
  },
  {
   "cell_type": "code",
   "execution_count": 13,
   "id": "a7242690",
   "metadata": {},
   "outputs": [
    {
     "name": "stdout",
     "output_type": "stream",
     "text": [
      "            loss           mae           mse      val_loss       val_mae  \\\n",
      "60  2.504606e+18  1.167594e+09  2.504606e+18  3.007405e+18  1.102359e+09   \n",
      "61  2.220699e+18  9.844265e+08  2.220699e+18  3.108508e+18  1.145557e+09   \n",
      "62  2.318280e+18  9.316904e+08  2.318280e+18  2.623297e+18  1.021215e+09   \n",
      "63  2.819663e+18  1.076941e+09  2.819663e+18  3.424763e+18  1.159249e+09   \n",
      "64  2.004552e+18  1.084324e+09  2.004552e+18  3.299833e+18  1.348975e+09   \n",
      "\n",
      "         val_mse  epoch  \n",
      "60  3.007405e+18     60  \n",
      "61  3.108508e+18     61  \n",
      "62  2.623297e+18     62  \n",
      "63  3.424763e+18     63  \n",
      "64  3.299833e+18     64  \n",
      "            loss           mae           mse      val_loss       val_mae  \\\n",
      "88  1.882313e+18  9.442845e+08  1.882313e+18  3.301177e+18  1.374274e+09   \n",
      "89  3.283985e+18  1.219995e+09  3.283985e+18  5.219651e+18  1.854605e+09   \n",
      "90  2.416592e+18  1.162646e+09  2.416592e+18  3.309482e+18  1.317793e+09   \n",
      "91  2.919952e+18  1.138631e+09  2.919952e+18  2.533498e+18  1.376700e+09   \n",
      "92  1.815147e+18  1.012348e+09  1.815147e+18  2.378737e+18  1.110849e+09   \n",
      "\n",
      "         val_mse  epoch  \n",
      "88  3.301177e+18     88  \n",
      "89  5.219651e+18     89  \n",
      "90  3.309482e+18     90  \n",
      "91  2.533498e+18     91  \n",
      "92  2.378737e+18     92  \n",
      "             loss          mae           mse      val_loss       val_mae  \\\n",
      "112  8.780599e+17  655734016.0  8.780599e+17  1.442508e+18  9.298088e+08   \n",
      "113  8.852058e+17  640733632.0  8.852058e+17  1.438449e+18  9.171668e+08   \n",
      "114  8.755597e+17  625853760.0  8.755597e+17  1.598535e+18  9.362346e+08   \n",
      "115  8.934567e+17  634586368.0  8.934567e+17  1.664237e+18  1.035500e+09   \n",
      "116  1.031383e+18  742918720.0  1.031383e+18  1.569419e+18  9.850856e+08   \n",
      "\n",
      "          val_mse  epoch  \n",
      "112  1.442508e+18    112  \n",
      "113  1.438449e+18    113  \n",
      "114  1.598535e+18    114  \n",
      "115  1.664237e+18    115  \n",
      "116  1.569419e+18    116  \n",
      "             loss           mae           mse      val_loss       val_mae  \\\n",
      "102  2.275779e+18  1.085391e+09  2.275779e+18  1.300020e+19  1.965266e+09   \n",
      "103  2.723041e+18  1.238144e+09  2.723041e+18  1.097578e+19  2.018712e+09   \n",
      "104  3.076448e+18  1.296396e+09  3.076448e+18  1.201323e+19  1.905990e+09   \n",
      "105  2.785143e+18  1.177033e+09  2.785143e+18  1.266108e+19  1.982172e+09   \n",
      "106  2.808207e+18  1.206113e+09  2.808207e+18  1.123280e+19  1.979361e+09   \n",
      "\n",
      "          val_mse  epoch  \n",
      "102  1.300020e+19    102  \n",
      "103  1.097578e+19    103  \n",
      "104  1.201323e+19    104  \n",
      "105  1.266108e+19    105  \n",
      "106  1.123280e+19    106  \n"
     ]
    }
   ],
   "source": [
    "histes = []\n",
    "for i in range(len(models)):\n",
    "    hist = pd.DataFrame(histories[i].history)\n",
    "    hist['epoch'] = histories[i].epoch\n",
    "    print(hist.tail())\n",
    "    histes.append(hist)"
   ]
  },
  {
   "cell_type": "code",
   "execution_count": 14,
   "id": "528423d1",
   "metadata": {},
   "outputs": [
    {
     "data": {
      "image/png": "[encoded data removed]",
      "text/plain": [
       "<Figure size 576x864 with 2 Axes>"
      ]
     },
     "metadata": {
      "needs_background": "light"
     },
     "output_type": "display_data"
    },
    {
     "data": {
      "image/png": "[encoded data removed]",
      "text/plain": [
       "<Figure size 576x864 with 2 Axes>"
      ]
     },
     "metadata": {
      "needs_background": "light"
     },
     "output_type": "display_data"
    },
    {
     "data": {
      "image/png": "[encoded data removed]",
      "text/plain": [
       "<Figure size 576x864 with 2 Axes>"
      ]
     },
     "metadata": {
      "needs_background": "light"
     },
     "output_type": "display_data"
    },
    {
     "data": {
      "image/png": "[encoded data removed]",
      "text/plain": [
       "<Figure size 576x864 with 2 Axes>"
      ]
     },
     "metadata": {
      "needs_background": "light"
     },
     "output_type": "display_data"
    }
   ],
   "source": [
    "cnt = 1\n",
    "for i in range(len(models)):\n",
    "    plt.figure(figsize=(8, 12))\n",
    "\n",
    "    plt.subplot(4, 2, cnt)\n",
    "    plt.xlabel('epoch')\n",
    "    plt.ylabel('mae')\n",
    "    plt.plot(histes[i]['epoch'], histes[i]['mae'], label='train error')\n",
    "    plt.plot(histes[i]['epoch'], histes[i]['val_mae'], label='val error')\n",
    "    plt.legend()\n",
    "\n",
    "    plt.subplot(4, 2, cnt+1)\n",
    "    plt.xlabel('epoch')\n",
    "    plt.ylabel('mse')\n",
    "    plt.plot(histes[i]['epoch'], histes[i]['mse'], label='train error')\n",
    "    plt.plot(histes[i]['epoch'], histes[i]['val_mse'], label='val error')\n",
    "    plt.legend()\n",
    "    \n",
    "    cnt += 2"
   ]
  },
  {
   "cell_type": "code",
   "execution_count": 15,
   "id": "fe185340",
   "metadata": {},
   "outputs": [
    {
     "data": {
      "image/png": "[encoded data removed]",
      "text/plain": [
       "<Figure size 576x864 with 1 Axes>"
      ]
     },
     "metadata": {
      "needs_background": "light"
     },
     "output_type": "display_data"
    },
    {
     "data": {
      "image/png": "[encoded data removed]",
      "text/plain": [
       "<Figure size 576x864 with 1 Axes>"
      ]
     },
     "metadata": {
      "needs_background": "light"
     },
     "output_type": "display_data"
    },
    {
     "data": {
      "image/png": "[encoded data removed]",
      "text/plain": [
       "<Figure size 576x864 with 1 Axes>"
      ]
     },
     "metadata": {
      "needs_background": "light"
     },
     "output_type": "display_data"
    },
    {
     "data": {
      "image/png": "[encoded data removed]",
      "text/plain": [
       "<Figure size 576x864 with 1 Axes>"
      ]
     },
     "metadata": {
      "needs_background": "light"
     },
     "output_type": "display_data"
    }
   ],
   "source": [
    "x_preds = []\n",
    "for i in range(len(models)):\n",
    "    plt.figure(figsize=(8,12))\n",
    "    plt.subplot(4, 1, i+1)\n",
    "    x_pred = models[i].predict(data[i][1]).flatten()\n",
    "    x_preds.append(x_pred)\n",
    "\n",
    "    plt.scatter(data[i][3], x_pred)\n",
    "    plt.xlabel('True Values [MPG]')\n",
    "    plt.ylabel('Predictions [MPG]')\n",
    "    plt.axis('equal')\n",
    "    plt.axis('square')\n",
    "    plt.xlim([0,plt.xlim()[1]])\n",
    "    plt.ylim([0,plt.ylim()[1]])\n",
    "    _ = plt.plot([-1e12, 1e12], [-1e12, 1e12])"
   ]
  },
  {
   "cell_type": "code",
   "execution_count": 16,
   "id": "9c720e92",
   "metadata": {},
   "outputs": [
    {
     "data": {
      "image/png": "[encoded data removed]",
      "text/plain": [
       "<Figure size 576x864 with 1 Axes>"
      ]
     },
     "metadata": {
      "needs_background": "light"
     },
     "output_type": "display_data"
    },
    {
     "data": {
      "image/png": "[encoded data removed]",
      "text/plain": [
       "<Figure size 576x864 with 1 Axes>"
      ]
     },
     "metadata": {
      "needs_background": "light"
     },
     "output_type": "display_data"
    },
    {
     "data": {
      "image/png": "[encoded data removed]",
      "text/plain": [
       "<Figure size 576x864 with 1 Axes>"
      ]
     },
     "metadata": {
      "needs_background": "light"
     },
     "output_type": "display_data"
    },
    {
     "data": {
      "image/png": "[encoded data removed]",
      "text/plain": [
       "<Figure size 576x864 with 1 Axes>"
      ]
     },
     "metadata": {
      "needs_background": "light"
     },
     "output_type": "display_data"
    }
   ],
   "source": [
    "for i in range(len(models)):\n",
    "    plt.figure(figsize=(8,12))\n",
    "    plt.subplot(4, 1, i+1)\n",
    "    error = x_preds[i] - data[i][3]\n",
    "    plt.hist(error, bins = 25)\n",
    "    plt.xlabel(\"Prediction Error [MPG]\")\n",
    "    _ = plt.ylabel(\"Count\")"
   ]
  },
  {
   "cell_type": "code",
   "execution_count": 17,
   "id": "a310115c",
   "metadata": {},
   "outputs": [
    {
     "name": "stdout",
     "output_type": "stream",
     "text": [
      "{'rating_G': <keras.engine.sequential.Sequential object at 0x000002B91F148D90>, 'rating_12': <keras.engine.sequential.Sequential object at 0x000002B91F2688E0>, 'rating_15': <keras.engine.sequential.Sequential object at 0x000002B91F268A60>, 'rating_X': <keras.engine.sequential.Sequential object at 0x000002B91F28ACD0>}\n"
     ]
    }
   ],
   "source": [
    "cols = ['rating_G', 'rating_12', 'rating_15', 'rating_X']\n",
    "models = {cols[i]: models[i] for i in range(len(models))}\n",
    "print(models)"
   ]
  },
  {
   "cell_type": "code",
   "execution_count": 18,
   "id": "df1bae53",
   "metadata": {
    "scrolled": true
   },
   "outputs": [
    {
     "data": {
      "text/plain": [
       "Index(['moviename', 'openingdate', 'attendance', 'screen', 'playcount',\n",
       "       'director', 'actor', 'openingmonth', 'country_abroad',\n",
       "       'country_domestic', 'distributor_etc_distributor',\n",
       "       'distributor_major_abroad', 'distributor_major_domestic',\n",
       "       'genre_action', 'genre_adventure', 'genre_animation', 'genre_comedy',\n",
       "       'genre_crime', 'genre_drama', 'genre_etc', 'genre_fantasy',\n",
       "       'genre_fear', 'genre_mystery', 'genre_romance', 'genre_sf',\n",
       "       'genre_thriller', 'filmrank_G_rated', 'filmrank_PG 12',\n",
       "       'filmrank_PG 15', 'filmrank_X_rated', 'sales'],\n",
       "      dtype='object')"
      ]
     },
     "execution_count": 18,
     "metadata": {},
     "output_type": "execute_result"
    }
   ],
   "source": [
    "movie_one_hot.columns"
   ]
  },
  {
   "cell_type": "code",
   "execution_count": 19,
   "id": "bf67e74b",
   "metadata": {},
   "outputs": [],
   "source": [
    "x = movie_one_hot.drop(columns=['moviename', 'openingdate', 'sales'])\n",
    "y = movie_one_hot['sales']\n",
    "y = y.to_numpy()"
   ]
  },
  {
   "cell_type": "code",
   "execution_count": 20,
   "id": "493a0313",
   "metadata": {},
   "outputs": [],
   "source": [
    "sc = MinMaxScaler()\n",
    "sc.fit(x)\n",
    "x_scale = sc.transform(x)\n",
    "x = pd.DataFrame(data=x_scale, columns=x.columns.tolist())"
   ]
  },
  {
   "cell_type": "code",
   "execution_count": 21,
   "id": "63a657e9",
   "metadata": {},
   "outputs": [],
   "source": [
    "x_train, x_test, y_train, y_test = train_test_split(x, y, random_state=42)"
   ]
  },
  {
   "cell_type": "code",
   "execution_count": 22,
   "id": "50a93154",
   "metadata": {},
   "outputs": [],
   "source": [
    "def build_model():\n",
    "    model = keras.Sequential([\n",
    "        layers.Dense(128, activation='relu', input_shape=(28,)),\n",
    "        layers.Dense(128, activation='relu'),\n",
    "        layers.Dense(1)\n",
    "    ])\n",
    "    \n",
    "    optimizer = tf.keras.optimizers.Adam(0.1)\n",
    "    \n",
    "    model.compile(loss='mse',\n",
    "                 optimizer=optimizer,\n",
    "                 metrics=['mae', 'mse'])\n",
    "    \n",
    "    return model"
   ]
  },
  {
   "cell_type": "code",
   "execution_count": 23,
   "id": "0bc56e7d",
   "metadata": {},
   "outputs": [
    {
     "name": "stdout",
     "output_type": "stream",
     "text": [
      "Model: \"sequential_4\"\n",
      "_________________________________________________________________\n",
      " Layer (type)                Output Shape              Param #   \n",
      "=================================================================\n",
      " dense_20 (Dense)            (None, 128)               3712      \n",
      "                                                                 \n",
      " dense_21 (Dense)            (None, 128)               16512     \n",
      "                                                                 \n",
      " dense_22 (Dense)            (None, 1)                 129       \n",
      "                                                                 \n",
      "=================================================================\n",
      "Total params: 20,353\n",
      "Trainable params: 20,353\n",
      "Non-trainable params: 0\n",
      "_________________________________________________________________\n"
     ]
    }
   ],
   "source": [
    "model = build_model()\n",
    "model.summary()"
   ]
  },
  {
   "cell_type": "code",
   "execution_count": 24,
   "id": "21dcf827",
   "metadata": {},
   "outputs": [],
   "source": [
    "epochs = 2000\n",
    "\n",
    "early_stop = keras.callbacks.EarlyStopping(monitor='val_loss', patience=10)\n",
    "\n",
    "history = model.fit(\n",
    "    x_train, y_train,\n",
    "    epochs=epochs, validation_split=0.2, verbose=0,\n",
    "    callbacks=[early_stop]\n",
    ")"
   ]
  },
  {
   "cell_type": "code",
   "execution_count": 25,
   "id": "dbc426f3",
   "metadata": {},
   "outputs": [
    {
     "data": {
      "text/html": [
       "<div>\n",
       "<style scoped>\n",
       "    .dataframe tbody tr th:only-of-type {\n",
       "        vertical-align: middle;\n",
       "    }\n",
       "\n",
       "    .dataframe tbody tr th {\n",
       "        vertical-align: top;\n",
       "    }\n",
       "\n",
       "    .dataframe thead th {\n",
       "        text-align: right;\n",
       "    }\n",
       "</style>\n",
       "<table border=\"1\" class=\"dataframe\">\n",
       "  <thead>\n",
       "    <tr style=\"text-align: right;\">\n",
       "      <th></th>\n",
       "      <th>loss</th>\n",
       "      <th>mae</th>\n",
       "      <th>mse</th>\n",
       "      <th>val_loss</th>\n",
       "      <th>val_mae</th>\n",
       "      <th>val_mse</th>\n",
       "      <th>epoch</th>\n",
       "    </tr>\n",
       "  </thead>\n",
       "  <tbody>\n",
       "    <tr>\n",
       "      <th>764</th>\n",
       "      <td>1.908747e+18</td>\n",
       "      <td>854147648.0</td>\n",
       "      <td>1.908747e+18</td>\n",
       "      <td>4.526519e+18</td>\n",
       "      <td>1.085324e+09</td>\n",
       "      <td>4.526519e+18</td>\n",
       "      <td>764</td>\n",
       "    </tr>\n",
       "    <tr>\n",
       "      <th>765</th>\n",
       "      <td>1.899362e+18</td>\n",
       "      <td>850262336.0</td>\n",
       "      <td>1.899362e+18</td>\n",
       "      <td>4.494687e+18</td>\n",
       "      <td>1.086676e+09</td>\n",
       "      <td>4.494687e+18</td>\n",
       "      <td>765</td>\n",
       "    </tr>\n",
       "    <tr>\n",
       "      <th>766</th>\n",
       "      <td>1.902390e+18</td>\n",
       "      <td>849589120.0</td>\n",
       "      <td>1.902390e+18</td>\n",
       "      <td>4.485151e+18</td>\n",
       "      <td>1.082772e+09</td>\n",
       "      <td>4.485151e+18</td>\n",
       "      <td>766</td>\n",
       "    </tr>\n",
       "    <tr>\n",
       "      <th>767</th>\n",
       "      <td>1.886330e+18</td>\n",
       "      <td>848227584.0</td>\n",
       "      <td>1.886330e+18</td>\n",
       "      <td>4.484596e+18</td>\n",
       "      <td>1.081182e+09</td>\n",
       "      <td>4.484596e+18</td>\n",
       "      <td>767</td>\n",
       "    </tr>\n",
       "    <tr>\n",
       "      <th>768</th>\n",
       "      <td>1.883210e+18</td>\n",
       "      <td>845081344.0</td>\n",
       "      <td>1.883210e+18</td>\n",
       "      <td>4.527355e+18</td>\n",
       "      <td>1.083367e+09</td>\n",
       "      <td>4.527355e+18</td>\n",
       "      <td>768</td>\n",
       "    </tr>\n",
       "  </tbody>\n",
       "</table>\n",
       "</div>"
      ],
      "text/plain": [
       "             loss          mae           mse      val_loss       val_mae  \\\n",
       "764  1.908747e+18  854147648.0  1.908747e+18  4.526519e+18  1.085324e+09   \n",
       "765  1.899362e+18  850262336.0  1.899362e+18  4.494687e+18  1.086676e+09   \n",
       "766  1.902390e+18  849589120.0  1.902390e+18  4.485151e+18  1.082772e+09   \n",
       "767  1.886330e+18  848227584.0  1.886330e+18  4.484596e+18  1.081182e+09   \n",
       "768  1.883210e+18  845081344.0  1.883210e+18  4.527355e+18  1.083367e+09   \n",
       "\n",
       "          val_mse  epoch  \n",
       "764  4.526519e+18    764  \n",
       "765  4.494687e+18    765  \n",
       "766  4.485151e+18    766  \n",
       "767  4.484596e+18    767  \n",
       "768  4.527355e+18    768  "
      ]
     },
     "execution_count": 25,
     "metadata": {},
     "output_type": "execute_result"
    }
   ],
   "source": [
    "hist = pd.DataFrame(history.history)\n",
    "hist['epoch'] = history.epoch\n",
    "hist.tail()"
   ]
  },
  {
   "cell_type": "code",
   "execution_count": 26,
   "id": "95d2d19e",
   "metadata": {},
   "outputs": [
    {
     "data": {
      "text/plain": [
       "<matplotlib.legend.Legend at 0x2b92e2409a0>"
      ]
     },
     "execution_count": 26,
     "metadata": {},
     "output_type": "execute_result"
    },
    {
     "data": {
      "image/png": "[encoded data removed]",
      "text/plain": [
       "<Figure size 576x864 with 2 Axes>"
      ]
     },
     "metadata": {
      "needs_background": "light"
     },
     "output_type": "display_data"
    }
   ],
   "source": [
    "plt.figure(figsize=(8, 12))\n",
    "\n",
    "plt.subplot(2, 1, 1)\n",
    "plt.xlabel('epoch')\n",
    "plt.ylabel('mae')\n",
    "plt.plot(hist['epoch'], hist['mae'], label='train error')\n",
    "plt.plot(hist['epoch'], hist['val_mae'], label='val error')\n",
    "plt.legend()\n",
    "\n",
    "plt.subplot(2, 1, 2)\n",
    "plt.xlabel('epoch')\n",
    "plt.ylabel('mse')\n",
    "plt.plot(hist['epoch'], hist['mse'], label='train error')\n",
    "plt.plot(hist['epoch'], hist['val_mse'], label='val error')\n",
    "plt.legend()"
   ]
  },
  {
   "cell_type": "code",
   "execution_count": 27,
   "id": "63dea847",
   "metadata": {},
   "outputs": [
    {
     "name": "stdout",
     "output_type": "stream",
     "text": [
      "WARNING:tensorflow:5 out of the last 11 calls to <function Model.make_predict_function.<locals>.predict_function at 0x000002B92D10C310> triggered tf.function retracing. Tracing is expensive and the excessive number of tracings could be due to (1) creating @tf.function repeatedly in a loop, (2) passing tensors with different shapes, (3) passing Python objects instead of tensors. For (1), please define your @tf.function outside of the loop. For (2), @tf.function has experimental_relax_shapes=True option that relaxes argument shapes that can avoid unnecessary retracing. For (3), please refer to https://www.tensorflow.org/guide/function#controlling_retracing and https://www.tensorflow.org/api_docs/python/tf/function for  more details.\n"
     ]
    },
    {
     "data": {
      "image/png": "[encoded data removed]",
      "text/plain": [
       "<Figure size 432x288 with 1 Axes>"
      ]
     },
     "metadata": {
      "needs_background": "light"
     },
     "output_type": "display_data"
    }
   ],
   "source": [
    "x_pred = model.predict(x_test).flatten()\n",
    "\n",
    "plt.scatter(y_test, x_pred)\n",
    "plt.xlabel('True Values [MPG]')\n",
    "plt.ylabel('Predictions [MPG]')\n",
    "plt.axis('equal')\n",
    "plt.axis('square')\n",
    "plt.xlim([0,plt.xlim()[1]])\n",
    "plt.ylim([0,plt.ylim()[1]])\n",
    "_ = plt.plot([-1e12, 1e12], [-1e12, 1e12])"
   ]
  },
  {
   "cell_type": "code",
   "execution_count": 28,
   "id": "1a8a5d85",
   "metadata": {},
   "outputs": [
    {
     "data": {
      "image/png": "[encoded data removed]",
      "text/plain": [
       "<Figure size 432x288 with 1 Axes>"
      ]
     },
     "metadata": {
      "needs_background": "light"
     },
     "output_type": "display_data"
    }
   ],
   "source": [
    "error = x_pred - y_test\n",
    "plt.hist(error, bins = 25)\n",
    "plt.xlabel(\"Prediction Error [MPG]\")\n",
    "_ = plt.ylabel(\"Count\")"
   ]
  },
  {
   "cell_type": "markdown",
   "id": "40444d2c",
   "metadata": {},
   "source": [
    "# 예산 데이터가 있는 영화 데이터"
   ]
  },
  {
   "cell_type": "markdown",
   "id": "eb204852",
   "metadata": {},
   "source": [
    "## 1. 데이터 불러오기"
   ]
  },
  {
   "cell_type": "code",
   "execution_count": 2,
   "id": "886835d7",
   "metadata": {},
   "outputs": [],
   "source": [
    "movie_budget_domestic = pd.read_csv('../data/Budget_Data/Preprocessing_Data/Korea_Data.csv')\n",
    "movie_budget_abroad = pd.read_csv('../data/Budget_Data/Preprocessing_Data/International_Data.csv')"
   ]
  },
  {
   "cell_type": "code",
   "execution_count": 3,
   "id": "5358505a",
   "metadata": {},
   "outputs": [
    {
     "data": {
      "text/html": [
       "<div>\n",
       "<style scoped>\n",
       "    .dataframe tbody tr th:only-of-type {\n",
       "        vertical-align: middle;\n",
       "    }\n",
       "\n",
       "    .dataframe tbody tr th {\n",
       "        vertical-align: top;\n",
       "    }\n",
       "\n",
       "    .dataframe thead th {\n",
       "        text-align: right;\n",
       "    }\n",
       "</style>\n",
       "<table border=\"1\" class=\"dataframe\">\n",
       "  <thead>\n",
       "    <tr style=\"text-align: right;\">\n",
       "      <th></th>\n",
       "      <th>moviename</th>\n",
       "      <th>sales</th>\n",
       "      <th>attendance</th>\n",
       "      <th>budget</th>\n",
       "    </tr>\n",
       "  </thead>\n",
       "  <tbody>\n",
       "    <tr>\n",
       "      <th>0</th>\n",
       "      <td>신과함께</td>\n",
       "      <td>1.026661e+11</td>\n",
       "      <td>12274996.0</td>\n",
       "      <td>4.000000e+10</td>\n",
       "    </tr>\n",
       "    <tr>\n",
       "      <th>1</th>\n",
       "      <td>암살</td>\n",
       "      <td>9.846313e+10</td>\n",
       "      <td>12705700.0</td>\n",
       "      <td>1.800000e+10</td>\n",
       "    </tr>\n",
       "    <tr>\n",
       "      <th>2</th>\n",
       "      <td>도둑들</td>\n",
       "      <td>9.366481e+10</td>\n",
       "      <td>12983178.0</td>\n",
       "      <td>1.150000e+10</td>\n",
       "    </tr>\n",
       "    <tr>\n",
       "      <th>3</th>\n",
       "      <td>설국열차</td>\n",
       "      <td>6.701009e+10</td>\n",
       "      <td>9349993.0</td>\n",
       "      <td>4.370000e+10</td>\n",
       "    </tr>\n",
       "    <tr>\n",
       "      <th>4</th>\n",
       "      <td>해적</td>\n",
       "      <td>6.637068e+10</td>\n",
       "      <td>8666046.0</td>\n",
       "      <td>1.340000e+10</td>\n",
       "    </tr>\n",
       "    <tr>\n",
       "      <th>5</th>\n",
       "      <td>베를린</td>\n",
       "      <td>5.235557e+10</td>\n",
       "      <td>7166290.0</td>\n",
       "      <td>1.100000e+10</td>\n",
       "    </tr>\n",
       "    <tr>\n",
       "      <th>6</th>\n",
       "      <td>군함도</td>\n",
       "      <td>5.050000e+10</td>\n",
       "      <td>6592151.0</td>\n",
       "      <td>3.300000e+10</td>\n",
       "    </tr>\n",
       "    <tr>\n",
       "      <th>7</th>\n",
       "      <td>디워</td>\n",
       "      <td>4.933993e+10</td>\n",
       "      <td>7855441.0</td>\n",
       "      <td>3.000000e+10</td>\n",
       "    </tr>\n",
       "    <tr>\n",
       "      <th>8</th>\n",
       "      <td>완벽한 타인</td>\n",
       "      <td>4.435081e+10</td>\n",
       "      <td>5293435.0</td>\n",
       "      <td>3.800000e+09</td>\n",
       "    </tr>\n",
       "    <tr>\n",
       "      <th>9</th>\n",
       "      <td>좋은놈 나쁜놈 이상한놈</td>\n",
       "      <td>4.374755e+10</td>\n",
       "      <td>6684933.0</td>\n",
       "      <td>1.740000e+10</td>\n",
       "    </tr>\n",
       "    <tr>\n",
       "      <th>10</th>\n",
       "      <td>독전</td>\n",
       "      <td>4.348555e+10</td>\n",
       "      <td>5063684.0</td>\n",
       "      <td>8.300000e+09</td>\n",
       "    </tr>\n",
       "    <tr>\n",
       "      <th>11</th>\n",
       "      <td>암수살인</td>\n",
       "      <td>3.299514e+10</td>\n",
       "      <td>3789321.0</td>\n",
       "      <td>5.000000e+09</td>\n",
       "    </tr>\n",
       "    <tr>\n",
       "      <th>12</th>\n",
       "      <td>탐정: 리턴즈</td>\n",
       "      <td>2.690946e+10</td>\n",
       "      <td>3152872.0</td>\n",
       "      <td>5.000000e+09</td>\n",
       "    </tr>\n",
       "    <tr>\n",
       "      <th>13</th>\n",
       "      <td>말모이</td>\n",
       "      <td>2.368509e+10</td>\n",
       "      <td>2812877.0</td>\n",
       "      <td>1.100000e+10</td>\n",
       "    </tr>\n",
       "    <tr>\n",
       "      <th>14</th>\n",
       "      <td>너의 결혼식</td>\n",
       "      <td>2.367624e+10</td>\n",
       "      <td>2820969.0</td>\n",
       "      <td>3.000000e+09</td>\n",
       "    </tr>\n",
       "    <tr>\n",
       "      <th>15</th>\n",
       "      <td>타워</td>\n",
       "      <td>2.299660e+10</td>\n",
       "      <td>3166425.0</td>\n",
       "      <td>1.200000e+10</td>\n",
       "    </tr>\n",
       "    <tr>\n",
       "      <th>16</th>\n",
       "      <td>고지전</td>\n",
       "      <td>2.196856e+10</td>\n",
       "      <td>2945137.0</td>\n",
       "      <td>1.100000e+10</td>\n",
       "    </tr>\n",
       "    <tr>\n",
       "      <th>17</th>\n",
       "      <td>목격자</td>\n",
       "      <td>2.173706e+10</td>\n",
       "      <td>2524720.0</td>\n",
       "      <td>4.500000e+09</td>\n",
       "    </tr>\n",
       "    <tr>\n",
       "      <th>18</th>\n",
       "      <td>곤지암</td>\n",
       "      <td>2.144219e+10</td>\n",
       "      <td>2675575.0</td>\n",
       "      <td>1.100000e+09</td>\n",
       "    </tr>\n",
       "    <tr>\n",
       "      <th>19</th>\n",
       "      <td>7광구</td>\n",
       "      <td>1.939165e+10</td>\n",
       "      <td>2242510.0</td>\n",
       "      <td>1.000000e+10</td>\n",
       "    </tr>\n",
       "    <tr>\n",
       "      <th>20</th>\n",
       "      <td>태풍</td>\n",
       "      <td>1.937256e+10</td>\n",
       "      <td>3035086.0</td>\n",
       "      <td>2.000000e+10</td>\n",
       "    </tr>\n",
       "    <tr>\n",
       "      <th>21</th>\n",
       "      <td>태극기 휘날리며</td>\n",
       "      <td>1.568718e+10</td>\n",
       "      <td>2544911.0</td>\n",
       "      <td>1.480000e+10</td>\n",
       "    </tr>\n",
       "    <tr>\n",
       "      <th>22</th>\n",
       "      <td>뺑반</td>\n",
       "      <td>1.522431e+10</td>\n",
       "      <td>1826912.0</td>\n",
       "      <td>1.240000e+10</td>\n",
       "    </tr>\n",
       "    <tr>\n",
       "      <th>23</th>\n",
       "      <td>대호</td>\n",
       "      <td>1.210481e+10</td>\n",
       "      <td>1584168.0</td>\n",
       "      <td>1.700000e+10</td>\n",
       "    </tr>\n",
       "    <tr>\n",
       "      <th>24</th>\n",
       "      <td>리틀 포레스트</td>\n",
       "      <td>1.190000e+10</td>\n",
       "      <td>1506269.0</td>\n",
       "      <td>1.500000e+09</td>\n",
       "    </tr>\n",
       "    <tr>\n",
       "      <th>25</th>\n",
       "      <td>마이웨이</td>\n",
       "      <td>1.181384e+10</td>\n",
       "      <td>1586042.0</td>\n",
       "      <td>2.800000e+10</td>\n",
       "    </tr>\n",
       "    <tr>\n",
       "      <th>26</th>\n",
       "      <td>미스터고</td>\n",
       "      <td>9.337976e+09</td>\n",
       "      <td>1328888.0</td>\n",
       "      <td>2.200000e+10</td>\n",
       "    </tr>\n",
       "    <tr>\n",
       "      <th>27</th>\n",
       "      <td>그날, 바다</td>\n",
       "      <td>4.446001e+09</td>\n",
       "      <td>540631.0</td>\n",
       "      <td>9.000000e+08</td>\n",
       "    </tr>\n",
       "    <tr>\n",
       "      <th>28</th>\n",
       "      <td>우상</td>\n",
       "      <td>1.581840e+09</td>\n",
       "      <td>183784.0</td>\n",
       "      <td>1.000000e+10</td>\n",
       "    </tr>\n",
       "    <tr>\n",
       "      <th>29</th>\n",
       "      <td>자전차왕 엄복동</td>\n",
       "      <td>1.304862e+09</td>\n",
       "      <td>172212.0</td>\n",
       "      <td>1.500000e+10</td>\n",
       "    </tr>\n",
       "  </tbody>\n",
       "</table>\n",
       "</div>"
      ],
      "text/plain": [
       "       moviename         sales  attendance        budget\n",
       "0           신과함께  1.026661e+11  12274996.0  4.000000e+10\n",
       "1             암살  9.846313e+10  12705700.0  1.800000e+10\n",
       "2            도둑들  9.366481e+10  12983178.0  1.150000e+10\n",
       "3           설국열차  6.701009e+10   9349993.0  4.370000e+10\n",
       "4             해적  6.637068e+10   8666046.0  1.340000e+10\n",
       "5            베를린  5.235557e+10   7166290.0  1.100000e+10\n",
       "6            군함도  5.050000e+10   6592151.0  3.300000e+10\n",
       "7             디워  4.933993e+10   7855441.0  3.000000e+10\n",
       "8         완벽한 타인  4.435081e+10   5293435.0  3.800000e+09\n",
       "9   좋은놈 나쁜놈 이상한놈  4.374755e+10   6684933.0  1.740000e+10\n",
       "10            독전  4.348555e+10   5063684.0  8.300000e+09\n",
       "11          암수살인  3.299514e+10   3789321.0  5.000000e+09\n",
       "12       탐정: 리턴즈  2.690946e+10   3152872.0  5.000000e+09\n",
       "13           말모이  2.368509e+10   2812877.0  1.100000e+10\n",
       "14        너의 결혼식  2.367624e+10   2820969.0  3.000000e+09\n",
       "15            타워  2.299660e+10   3166425.0  1.200000e+10\n",
       "16           고지전  2.196856e+10   2945137.0  1.100000e+10\n",
       "17           목격자  2.173706e+10   2524720.0  4.500000e+09\n",
       "18           곤지암  2.144219e+10   2675575.0  1.100000e+09\n",
       "19           7광구  1.939165e+10   2242510.0  1.000000e+10\n",
       "20            태풍  1.937256e+10   3035086.0  2.000000e+10\n",
       "21      태극기 휘날리며  1.568718e+10   2544911.0  1.480000e+10\n",
       "22            뺑반  1.522431e+10   1826912.0  1.240000e+10\n",
       "23            대호  1.210481e+10   1584168.0  1.700000e+10\n",
       "24       리틀 포레스트  1.190000e+10   1506269.0  1.500000e+09\n",
       "25          마이웨이  1.181384e+10   1586042.0  2.800000e+10\n",
       "26          미스터고  9.337976e+09   1328888.0  2.200000e+10\n",
       "27        그날, 바다  4.446001e+09    540631.0  9.000000e+08\n",
       "28            우상  1.581840e+09    183784.0  1.000000e+10\n",
       "29      자전차왕 엄복동  1.304862e+09    172212.0  1.500000e+10"
      ]
     },
     "execution_count": 3,
     "metadata": {},
     "output_type": "execute_result"
    }
   ],
   "source": [
    "movie_budget_domestic"
   ]
  },
  {
   "cell_type": "code",
   "execution_count": 4,
   "id": "e8cbf858",
   "metadata": {},
   "outputs": [
    {
     "data": {
      "text/html": [
       "<div>\n",
       "<style scoped>\n",
       "    .dataframe tbody tr th:only-of-type {\n",
       "        vertical-align: middle;\n",
       "    }\n",
       "\n",
       "    .dataframe tbody tr th {\n",
       "        vertical-align: top;\n",
       "    }\n",
       "\n",
       "    .dataframe thead th {\n",
       "        text-align: right;\n",
       "    }\n",
       "</style>\n",
       "<table border=\"1\" class=\"dataframe\">\n",
       "  <thead>\n",
       "    <tr style=\"text-align: right;\">\n",
       "      <th></th>\n",
       "      <th>moviename</th>\n",
       "      <th>sales</th>\n",
       "      <th>budget</th>\n",
       "    </tr>\n",
       "  </thead>\n",
       "  <tbody>\n",
       "    <tr>\n",
       "      <th>0</th>\n",
       "      <td>Avatar</td>\n",
       "      <td>3.415079e+12</td>\n",
       "      <td>2.844000e+11</td>\n",
       "    </tr>\n",
       "    <tr>\n",
       "      <th>1</th>\n",
       "      <td>Avengers: Endgame</td>\n",
       "      <td>3.357361e+12</td>\n",
       "      <td>4.800000e+11</td>\n",
       "    </tr>\n",
       "    <tr>\n",
       "      <th>2</th>\n",
       "      <td>Titanic</td>\n",
       "      <td>2.649584e+12</td>\n",
       "      <td>2.400000e+11</td>\n",
       "    </tr>\n",
       "    <tr>\n",
       "      <th>3</th>\n",
       "      <td>Star Wars Ep. VII: The Force Awakens</td>\n",
       "      <td>2.477539e+12</td>\n",
       "      <td>3.672000e+11</td>\n",
       "    </tr>\n",
       "    <tr>\n",
       "      <th>4</th>\n",
       "      <td>Avengers: Infinity War</td>\n",
       "      <td>2.458032e+12</td>\n",
       "      <td>3.600000e+11</td>\n",
       "    </tr>\n",
       "    <tr>\n",
       "      <th>...</th>\n",
       "      <td>...</td>\n",
       "      <td>...</td>\n",
       "      <td>...</td>\n",
       "    </tr>\n",
       "    <tr>\n",
       "      <th>195</th>\n",
       "      <td>The Young and Prodigious T.S. Spivet</td>\n",
       "      <td>4.292244e+08</td>\n",
       "      <td>3.960000e+10</td>\n",
       "    </tr>\n",
       "    <tr>\n",
       "      <th>196</th>\n",
       "      <td>Freaks of Nature</td>\n",
       "      <td>8.514960e+07</td>\n",
       "      <td>3.960000e+10</td>\n",
       "    </tr>\n",
       "    <tr>\n",
       "      <th>197</th>\n",
       "      <td>George and the Dragon</td>\n",
       "      <td>0.000000e+00</td>\n",
       "      <td>3.840000e+10</td>\n",
       "    </tr>\n",
       "    <tr>\n",
       "      <th>198</th>\n",
       "      <td>The Batman</td>\n",
       "      <td>0.000000e+00</td>\n",
       "      <td>1.200000e+11</td>\n",
       "    </tr>\n",
       "    <tr>\n",
       "      <th>199</th>\n",
       "      <td>Artemis Fowl</td>\n",
       "      <td>0.000000e+00</td>\n",
       "      <td>1.200000e+11</td>\n",
       "    </tr>\n",
       "  </tbody>\n",
       "</table>\n",
       "<p>200 rows × 3 columns</p>\n",
       "</div>"
      ],
      "text/plain": [
       "                                moviename         sales        budget\n",
       "0                                  Avatar  3.415079e+12  2.844000e+11\n",
       "1                       Avengers: Endgame  3.357361e+12  4.800000e+11\n",
       "2                                 Titanic  2.649584e+12  2.400000e+11\n",
       "3    Star Wars Ep. VII: The Force Awakens  2.477539e+12  3.672000e+11\n",
       "4                  Avengers: Infinity War  2.458032e+12  3.600000e+11\n",
       "..                                    ...           ...           ...\n",
       "195  The Young and Prodigious T.S. Spivet  4.292244e+08  3.960000e+10\n",
       "196                      Freaks of Nature  8.514960e+07  3.960000e+10\n",
       "197                 George and the Dragon  0.000000e+00  3.840000e+10\n",
       "198                            The Batman  0.000000e+00  1.200000e+11\n",
       "199                          Artemis Fowl  0.000000e+00  1.200000e+11\n",
       "\n",
       "[200 rows x 3 columns]"
      ]
     },
     "execution_count": 4,
     "metadata": {},
     "output_type": "execute_result"
    }
   ],
   "source": [
    "movie_budget_abroad"
   ]
  },
  {
   "cell_type": "code",
   "execution_count": 5,
   "id": "f33bd69a",
   "metadata": {},
   "outputs": [],
   "source": [
    "movie_budget_domestic = movie_budget_domestic.drop(columns=['attendance'])"
   ]
  },
  {
   "cell_type": "code",
   "execution_count": 6,
   "id": "e51ca5f7",
   "metadata": {},
   "outputs": [
    {
     "data": {
      "text/html": [
       "<div>\n",
       "<style scoped>\n",
       "    .dataframe tbody tr th:only-of-type {\n",
       "        vertical-align: middle;\n",
       "    }\n",
       "\n",
       "    .dataframe tbody tr th {\n",
       "        vertical-align: top;\n",
       "    }\n",
       "\n",
       "    .dataframe thead th {\n",
       "        text-align: right;\n",
       "    }\n",
       "</style>\n",
       "<table border=\"1\" class=\"dataframe\">\n",
       "  <thead>\n",
       "    <tr style=\"text-align: right;\">\n",
       "      <th></th>\n",
       "      <th>moviename</th>\n",
       "      <th>sales</th>\n",
       "      <th>budget</th>\n",
       "    </tr>\n",
       "  </thead>\n",
       "  <tbody>\n",
       "    <tr>\n",
       "      <th>0</th>\n",
       "      <td>신과함께</td>\n",
       "      <td>1.026661e+11</td>\n",
       "      <td>4.000000e+10</td>\n",
       "    </tr>\n",
       "    <tr>\n",
       "      <th>1</th>\n",
       "      <td>암살</td>\n",
       "      <td>9.846313e+10</td>\n",
       "      <td>1.800000e+10</td>\n",
       "    </tr>\n",
       "    <tr>\n",
       "      <th>2</th>\n",
       "      <td>도둑들</td>\n",
       "      <td>9.366481e+10</td>\n",
       "      <td>1.150000e+10</td>\n",
       "    </tr>\n",
       "    <tr>\n",
       "      <th>3</th>\n",
       "      <td>설국열차</td>\n",
       "      <td>6.701009e+10</td>\n",
       "      <td>4.370000e+10</td>\n",
       "    </tr>\n",
       "    <tr>\n",
       "      <th>4</th>\n",
       "      <td>해적</td>\n",
       "      <td>6.637068e+10</td>\n",
       "      <td>1.340000e+10</td>\n",
       "    </tr>\n",
       "  </tbody>\n",
       "</table>\n",
       "</div>"
      ],
      "text/plain": [
       "  moviename         sales        budget\n",
       "0      신과함께  1.026661e+11  4.000000e+10\n",
       "1        암살  9.846313e+10  1.800000e+10\n",
       "2       도둑들  9.366481e+10  1.150000e+10\n",
       "3      설국열차  6.701009e+10  4.370000e+10\n",
       "4        해적  6.637068e+10  1.340000e+10"
      ]
     },
     "execution_count": 6,
     "metadata": {},
     "output_type": "execute_result"
    }
   ],
   "source": [
    "movie_budget_domestic.head()"
   ]
  },
  {
   "cell_type": "code",
   "execution_count": 7,
   "id": "4c1302ce",
   "metadata": {},
   "outputs": [],
   "source": [
    "movie_budget_abroad = movie_budget_abroad[movie_budget_abroad['sales'] != 0]"
   ]
  },
  {
   "cell_type": "code",
   "execution_count": 8,
   "id": "5c61f393",
   "metadata": {},
   "outputs": [
    {
     "data": {
      "text/html": [
       "<div>\n",
       "<style scoped>\n",
       "    .dataframe tbody tr th:only-of-type {\n",
       "        vertical-align: middle;\n",
       "    }\n",
       "\n",
       "    .dataframe tbody tr th {\n",
       "        vertical-align: top;\n",
       "    }\n",
       "\n",
       "    .dataframe thead th {\n",
       "        text-align: right;\n",
       "    }\n",
       "</style>\n",
       "<table border=\"1\" class=\"dataframe\">\n",
       "  <thead>\n",
       "    <tr style=\"text-align: right;\">\n",
       "      <th></th>\n",
       "      <th>moviename</th>\n",
       "      <th>sales</th>\n",
       "      <th>budget</th>\n",
       "    </tr>\n",
       "  </thead>\n",
       "  <tbody>\n",
       "    <tr>\n",
       "      <th>0</th>\n",
       "      <td>신과함께</td>\n",
       "      <td>1.026661e+11</td>\n",
       "      <td>4.000000e+10</td>\n",
       "    </tr>\n",
       "    <tr>\n",
       "      <th>1</th>\n",
       "      <td>암살</td>\n",
       "      <td>9.846313e+10</td>\n",
       "      <td>1.800000e+10</td>\n",
       "    </tr>\n",
       "    <tr>\n",
       "      <th>2</th>\n",
       "      <td>도둑들</td>\n",
       "      <td>9.366481e+10</td>\n",
       "      <td>1.150000e+10</td>\n",
       "    </tr>\n",
       "    <tr>\n",
       "      <th>3</th>\n",
       "      <td>설국열차</td>\n",
       "      <td>6.701009e+10</td>\n",
       "      <td>4.370000e+10</td>\n",
       "    </tr>\n",
       "    <tr>\n",
       "      <th>4</th>\n",
       "      <td>해적</td>\n",
       "      <td>6.637068e+10</td>\n",
       "      <td>1.340000e+10</td>\n",
       "    </tr>\n",
       "    <tr>\n",
       "      <th>...</th>\n",
       "      <td>...</td>\n",
       "      <td>...</td>\n",
       "      <td>...</td>\n",
       "    </tr>\n",
       "    <tr>\n",
       "      <th>192</th>\n",
       "      <td>Bogus</td>\n",
       "      <td>5.228887e+09</td>\n",
       "      <td>3.840000e+10</td>\n",
       "    </tr>\n",
       "    <tr>\n",
       "      <th>193</th>\n",
       "      <td>Cats Don't Dance</td>\n",
       "      <td>4.306322e+09</td>\n",
       "      <td>3.840000e+10</td>\n",
       "    </tr>\n",
       "    <tr>\n",
       "      <th>194</th>\n",
       "      <td>Cradle Will Rock</td>\n",
       "      <td>3.479964e+09</td>\n",
       "      <td>3.840000e+10</td>\n",
       "    </tr>\n",
       "    <tr>\n",
       "      <th>195</th>\n",
       "      <td>The Young and Prodigious T.S. Spivet</td>\n",
       "      <td>4.292244e+08</td>\n",
       "      <td>3.960000e+10</td>\n",
       "    </tr>\n",
       "    <tr>\n",
       "      <th>196</th>\n",
       "      <td>Freaks of Nature</td>\n",
       "      <td>8.514960e+07</td>\n",
       "      <td>3.960000e+10</td>\n",
       "    </tr>\n",
       "  </tbody>\n",
       "</table>\n",
       "<p>227 rows × 3 columns</p>\n",
       "</div>"
      ],
      "text/plain": [
       "                                moviename         sales        budget\n",
       "0                                    신과함께  1.026661e+11  4.000000e+10\n",
       "1                                      암살  9.846313e+10  1.800000e+10\n",
       "2                                     도둑들  9.366481e+10  1.150000e+10\n",
       "3                                    설국열차  6.701009e+10  4.370000e+10\n",
       "4                                      해적  6.637068e+10  1.340000e+10\n",
       "..                                    ...           ...           ...\n",
       "192                                 Bogus  5.228887e+09  3.840000e+10\n",
       "193                      Cats Don't Dance  4.306322e+09  3.840000e+10\n",
       "194                      Cradle Will Rock  3.479964e+09  3.840000e+10\n",
       "195  The Young and Prodigious T.S. Spivet  4.292244e+08  3.960000e+10\n",
       "196                      Freaks of Nature  8.514960e+07  3.960000e+10\n",
       "\n",
       "[227 rows x 3 columns]"
      ]
     },
     "execution_count": 8,
     "metadata": {},
     "output_type": "execute_result"
    }
   ],
   "source": [
    "movie_budget = pd.concat([movie_budget_domestic, movie_budget_abroad], axis=0)\n",
    "movie_budget"
   ]
  },
  {
   "cell_type": "code",
   "execution_count": 9,
   "id": "01c2e558",
   "metadata": {},
   "outputs": [
    {
     "data": {
      "text/html": [
       "<div>\n",
       "<style scoped>\n",
       "    .dataframe tbody tr th:only-of-type {\n",
       "        vertical-align: middle;\n",
       "    }\n",
       "\n",
       "    .dataframe tbody tr th {\n",
       "        vertical-align: top;\n",
       "    }\n",
       "\n",
       "    .dataframe thead th {\n",
       "        text-align: right;\n",
       "    }\n",
       "</style>\n",
       "<table border=\"1\" class=\"dataframe\">\n",
       "  <thead>\n",
       "    <tr style=\"text-align: right;\">\n",
       "      <th></th>\n",
       "      <th>moviename</th>\n",
       "      <th>sales</th>\n",
       "      <th>budget</th>\n",
       "    </tr>\n",
       "  </thead>\n",
       "  <tbody>\n",
       "    <tr>\n",
       "      <th>0</th>\n",
       "      <td>신과함께</td>\n",
       "      <td>1.026661e+11</td>\n",
       "      <td>4.000000e+10</td>\n",
       "    </tr>\n",
       "    <tr>\n",
       "      <th>1</th>\n",
       "      <td>암살</td>\n",
       "      <td>9.846313e+10</td>\n",
       "      <td>1.800000e+10</td>\n",
       "    </tr>\n",
       "    <tr>\n",
       "      <th>2</th>\n",
       "      <td>도둑들</td>\n",
       "      <td>9.366481e+10</td>\n",
       "      <td>1.150000e+10</td>\n",
       "    </tr>\n",
       "    <tr>\n",
       "      <th>3</th>\n",
       "      <td>설국열차</td>\n",
       "      <td>6.701009e+10</td>\n",
       "      <td>4.370000e+10</td>\n",
       "    </tr>\n",
       "    <tr>\n",
       "      <th>4</th>\n",
       "      <td>해적</td>\n",
       "      <td>6.637068e+10</td>\n",
       "      <td>1.340000e+10</td>\n",
       "    </tr>\n",
       "    <tr>\n",
       "      <th>...</th>\n",
       "      <td>...</td>\n",
       "      <td>...</td>\n",
       "      <td>...</td>\n",
       "    </tr>\n",
       "    <tr>\n",
       "      <th>222</th>\n",
       "      <td>Bogus</td>\n",
       "      <td>5.228887e+09</td>\n",
       "      <td>3.840000e+10</td>\n",
       "    </tr>\n",
       "    <tr>\n",
       "      <th>223</th>\n",
       "      <td>Cats Don't Dance</td>\n",
       "      <td>4.306322e+09</td>\n",
       "      <td>3.840000e+10</td>\n",
       "    </tr>\n",
       "    <tr>\n",
       "      <th>224</th>\n",
       "      <td>Cradle Will Rock</td>\n",
       "      <td>3.479964e+09</td>\n",
       "      <td>3.840000e+10</td>\n",
       "    </tr>\n",
       "    <tr>\n",
       "      <th>225</th>\n",
       "      <td>The Young and Prodigious T.S. Spivet</td>\n",
       "      <td>4.292244e+08</td>\n",
       "      <td>3.960000e+10</td>\n",
       "    </tr>\n",
       "    <tr>\n",
       "      <th>226</th>\n",
       "      <td>Freaks of Nature</td>\n",
       "      <td>8.514960e+07</td>\n",
       "      <td>3.960000e+10</td>\n",
       "    </tr>\n",
       "  </tbody>\n",
       "</table>\n",
       "<p>227 rows × 3 columns</p>\n",
       "</div>"
      ],
      "text/plain": [
       "                                moviename         sales        budget\n",
       "0                                    신과함께  1.026661e+11  4.000000e+10\n",
       "1                                      암살  9.846313e+10  1.800000e+10\n",
       "2                                     도둑들  9.366481e+10  1.150000e+10\n",
       "3                                    설국열차  6.701009e+10  4.370000e+10\n",
       "4                                      해적  6.637068e+10  1.340000e+10\n",
       "..                                    ...           ...           ...\n",
       "222                                 Bogus  5.228887e+09  3.840000e+10\n",
       "223                      Cats Don't Dance  4.306322e+09  3.840000e+10\n",
       "224                      Cradle Will Rock  3.479964e+09  3.840000e+10\n",
       "225  The Young and Prodigious T.S. Spivet  4.292244e+08  3.960000e+10\n",
       "226                      Freaks of Nature  8.514960e+07  3.960000e+10\n",
       "\n",
       "[227 rows x 3 columns]"
      ]
     },
     "execution_count": 9,
     "metadata": {},
     "output_type": "execute_result"
    }
   ],
   "source": [
    "movie_budget.reset_index(inplace=True, drop=True)\n",
    "movie_budget"
   ]
  },
  {
   "cell_type": "code",
   "execution_count": 123,
   "id": "2453a34a",
   "metadata": {},
   "outputs": [],
   "source": [
    "sales_x = movie_budget['sales']\n",
    "sales_x = sales_x.to_numpy()\n",
    "sales_y = movie_budget['budget']\n",
    "sales_y = sales_y.to_numpy()"
   ]
  },
  {
   "cell_type": "code",
   "execution_count": 124,
   "id": "4bb22c46",
   "metadata": {},
   "outputs": [],
   "source": [
    "sc = MinMaxScaler()\n",
    "\n",
    "sales_x = sales_x.reshape(-1, 1)\n",
    "sc.fit(sales_x)\n",
    "sales_x = sc.transform(sales_x).reshape(-1)"
   ]
  },
  {
   "cell_type": "code",
   "execution_count": 125,
   "id": "cac8d463",
   "metadata": {},
   "outputs": [],
   "source": [
    "sales_x_train, sales_x_test, sales_y_train, sales_y_test = train_test_split(sales_x, sales_y,\n",
    "                                                                            random_state=42)"
   ]
  },
  {
   "cell_type": "code",
   "execution_count": 126,
   "id": "5b4252ec",
   "metadata": {},
   "outputs": [],
   "source": [
    "def build_model():\n",
    "    model = keras.Sequential([\n",
    "        layers.Dense(256, activation='relu', input_shape=(1,)),\n",
    "        layers.Dense(256, activation='relu'),\n",
    "        layers.Dense(1)\n",
    "    ])\n",
    "    \n",
    "    optimizer = tf.keras.optimizers.Adam(0.1)\n",
    "    \n",
    "    model.compile(loss='mse',\n",
    "                 optimizer=optimizer,\n",
    "                 metrics=['mae', 'mse'])\n",
    "    \n",
    "    return model"
   ]
  },
  {
   "cell_type": "code",
   "execution_count": 127,
   "id": "78bca1b1",
   "metadata": {},
   "outputs": [
    {
     "name": "stdout",
     "output_type": "stream",
     "text": [
      "Model: \"sequential_12\"\n",
      "_________________________________________________________________\n",
      " Layer (type)                Output Shape              Param #   \n",
      "=================================================================\n",
      " dense_40 (Dense)            (None, 256)               512       \n",
      "                                                                 \n",
      " dense_41 (Dense)            (None, 256)               65792     \n",
      "                                                                 \n",
      " dense_42 (Dense)            (None, 1)                 257       \n",
      "                                                                 \n",
      "=================================================================\n",
      "Total params: 66,561\n",
      "Trainable params: 66,561\n",
      "Non-trainable params: 0\n",
      "_________________________________________________________________\n"
     ]
    }
   ],
   "source": [
    "sales_model = build_model()\n",
    "sales_model.summary()"
   ]
  },
  {
   "cell_type": "code",
   "execution_count": 128,
   "id": "5b59858c",
   "metadata": {},
   "outputs": [],
   "source": [
    "epochs = 2000\n",
    "\n",
    "early_stop = keras.callbacks.EarlyStopping(monitor='val_loss', patience=10)\n",
    "\n",
    "sales_history = sales_model.fit(\n",
    "    sales_x_train, sales_y_train,\n",
    "    epochs=epochs, validation_split=0.2, verbose=0,\n",
    "    callbacks=[early_stop]\n",
    ")"
   ]
  },
  {
   "cell_type": "code",
   "execution_count": 129,
   "id": "4247961f",
   "metadata": {},
   "outputs": [
    {
     "data": {
      "text/html": [
       "<div>\n",
       "<style scoped>\n",
       "    .dataframe tbody tr th:only-of-type {\n",
       "        vertical-align: middle;\n",
       "    }\n",
       "\n",
       "    .dataframe tbody tr th {\n",
       "        vertical-align: top;\n",
       "    }\n",
       "\n",
       "    .dataframe thead th {\n",
       "        text-align: right;\n",
       "    }\n",
       "</style>\n",
       "<table border=\"1\" class=\"dataframe\">\n",
       "  <thead>\n",
       "    <tr style=\"text-align: right;\">\n",
       "      <th></th>\n",
       "      <th>loss</th>\n",
       "      <th>mae</th>\n",
       "      <th>mse</th>\n",
       "      <th>val_loss</th>\n",
       "      <th>val_mae</th>\n",
       "      <th>val_mse</th>\n",
       "      <th>epoch</th>\n",
       "    </tr>\n",
       "  </thead>\n",
       "  <tbody>\n",
       "    <tr>\n",
       "      <th>1269</th>\n",
       "      <td>3.686994e+21</td>\n",
       "      <td>4.613054e+10</td>\n",
       "      <td>3.686994e+21</td>\n",
       "      <td>3.810374e+21</td>\n",
       "      <td>4.314639e+10</td>\n",
       "      <td>3.810374e+21</td>\n",
       "      <td>1269</td>\n",
       "    </tr>\n",
       "    <tr>\n",
       "      <th>1270</th>\n",
       "      <td>3.686838e+21</td>\n",
       "      <td>4.612914e+10</td>\n",
       "      <td>3.686838e+21</td>\n",
       "      <td>3.808212e+21</td>\n",
       "      <td>4.313802e+10</td>\n",
       "      <td>3.808212e+21</td>\n",
       "      <td>1270</td>\n",
       "    </tr>\n",
       "    <tr>\n",
       "      <th>1271</th>\n",
       "      <td>3.686422e+21</td>\n",
       "      <td>4.612855e+10</td>\n",
       "      <td>3.686422e+21</td>\n",
       "      <td>3.809196e+21</td>\n",
       "      <td>4.313920e+10</td>\n",
       "      <td>3.809196e+21</td>\n",
       "      <td>1271</td>\n",
       "    </tr>\n",
       "    <tr>\n",
       "      <th>1272</th>\n",
       "      <td>3.686189e+21</td>\n",
       "      <td>4.612762e+10</td>\n",
       "      <td>3.686189e+21</td>\n",
       "      <td>3.809469e+21</td>\n",
       "      <td>4.313689e+10</td>\n",
       "      <td>3.809469e+21</td>\n",
       "      <td>1272</td>\n",
       "    </tr>\n",
       "    <tr>\n",
       "      <th>1273</th>\n",
       "      <td>3.686150e+21</td>\n",
       "      <td>4.612580e+10</td>\n",
       "      <td>3.686150e+21</td>\n",
       "      <td>3.807404e+21</td>\n",
       "      <td>4.312868e+10</td>\n",
       "      <td>3.807404e+21</td>\n",
       "      <td>1273</td>\n",
       "    </tr>\n",
       "  </tbody>\n",
       "</table>\n",
       "</div>"
      ],
      "text/plain": [
       "              loss           mae           mse      val_loss       val_mae  \\\n",
       "1269  3.686994e+21  4.613054e+10  3.686994e+21  3.810374e+21  4.314639e+10   \n",
       "1270  3.686838e+21  4.612914e+10  3.686838e+21  3.808212e+21  4.313802e+10   \n",
       "1271  3.686422e+21  4.612855e+10  3.686422e+21  3.809196e+21  4.313920e+10   \n",
       "1272  3.686189e+21  4.612762e+10  3.686189e+21  3.809469e+21  4.313689e+10   \n",
       "1273  3.686150e+21  4.612580e+10  3.686150e+21  3.807404e+21  4.312868e+10   \n",
       "\n",
       "           val_mse  epoch  \n",
       "1269  3.810374e+21   1269  \n",
       "1270  3.808212e+21   1270  \n",
       "1271  3.809196e+21   1271  \n",
       "1272  3.809469e+21   1272  \n",
       "1273  3.807404e+21   1273  "
      ]
     },
     "execution_count": 129,
     "metadata": {},
     "output_type": "execute_result"
    }
   ],
   "source": [
    "sales_hist = pd.DataFrame(sales_history.history)\n",
    "sales_hist['epoch'] = sales_history.epoch\n",
    "sales_hist.tail()"
   ]
  },
  {
   "cell_type": "code",
   "execution_count": 130,
   "id": "76853ae2",
   "metadata": {},
   "outputs": [
    {
     "data": {
      "text/plain": [
       "<matplotlib.legend.Legend at 0x230b7ba7bb0>"
      ]
     },
     "execution_count": 130,
     "metadata": {},
     "output_type": "execute_result"
    },
    {
     "data": {
      "image/png": "[encoded data removed]",
      "text/plain": [
       "<Figure size 576x864 with 2 Axes>"
      ]
     },
     "metadata": {
      "needs_background": "light"
     },
     "output_type": "display_data"
    }
   ],
   "source": [
    "plt.figure(figsize=(8, 12))\n",
    "\n",
    "plt.subplot(2, 1, 1)\n",
    "plt.xlabel('epoch')\n",
    "plt.ylabel('mae')\n",
    "plt.plot(sales_hist['epoch'], sales_hist['mae'], label='train error')\n",
    "plt.plot(sales_hist['epoch'], sales_hist['val_mae'], label='val error')\n",
    "plt.legend()\n",
    "\n",
    "plt.subplot(2, 1, 2)\n",
    "plt.xlabel('epoch')\n",
    "plt.ylabel('mse')\n",
    "plt.plot(sales_hist['epoch'], sales_hist['mse'], label='train error')\n",
    "plt.plot(sales_hist['epoch'], sales_hist['val_mse'], label='val error')\n",
    "plt.legend()"
   ]
  },
  {
   "cell_type": "code",
   "execution_count": 131,
   "id": "1ba4ac8a",
   "metadata": {},
   "outputs": [
    {
     "data": {
      "image/png": "[encoded data removed]",
      "text/plain": [
       "<Figure size 432x288 with 1 Axes>"
      ]
     },
     "metadata": {
      "needs_background": "light"
     },
     "output_type": "display_data"
    }
   ],
   "source": [
    "sales_x_pred = sales_model.predict(sales_x_test).flatten()\n",
    "\n",
    "plt.scatter(sales_y_test, sales_x_pred)\n",
    "plt.xlabel('True Values [MPG]')\n",
    "plt.ylabel('Predictions [MPG]')\n",
    "plt.axis('equal')\n",
    "plt.axis('square')\n",
    "plt.xlim([0,plt.xlim()[1]])\n",
    "plt.ylim([0,plt.ylim()[1]])\n",
    "_ = plt.plot([-1e12, 1e12], [-1e12, 1e12])"
   ]
  },
  {
   "cell_type": "code",
   "execution_count": 132,
   "id": "7d6309b3",
   "metadata": {},
   "outputs": [
    {
     "data": {
      "image/png": "[encoded data removed]",
      "text/plain": [
       "<Figure size 432x288 with 1 Axes>"
      ]
     },
     "metadata": {
      "needs_background": "light"
     },
     "output_type": "display_data"
    }
   ],
   "source": [
    "error = sales_x_pred - sales_y_test\n",
    "plt.hist(error, bins = 25)\n",
    "plt.xlabel(\"Prediction Error [MPG]\")\n",
    "_ = plt.ylabel(\"Count\")"
   ]
  },
  {
   "cell_type": "code",
   "execution_count": null,
   "id": "33d0129c",
   "metadata": {},
   "outputs": [],
   "source": []
  },
  {
   "cell_type": "code",
   "execution_count": null,
   "id": "67b16ef5",
   "metadata": {},
   "outputs": [],
   "source": []
  },
  {
   "cell_type": "code",
   "execution_count": null,
   "id": "6b6994aa",
   "metadata": {},
   "outputs": [],
   "source": []
  },
  {
   "cell_type": "code",
   "execution_count": null,
   "id": "7f8781d6",
   "metadata": {},
   "outputs": [],
   "source": []
  },
  {
   "cell_type": "code",
   "execution_count": null,
   "id": "58b91bd1",
   "metadata": {},
   "outputs": [],
   "source": []
  }
 ],
 "metadata": {
  "kernelspec": {
   "display_name": "Python 3 (ipykernel)",
   "language": "python",
   "name": "python3"
  },
  "language_info": {
   "codemirror_mode": {
    "name": "ipython",
    "version": 3
   },
   "file_extension": ".py",
   "mimetype": "text/x-python",
   "name": "python",
   "nbconvert_exporter": "python",
   "pygments_lexer": "ipython3",
   "version": "3.9.6"
  }
 },
 "nbformat": 4,
 "nbformat_minor": 5
}
