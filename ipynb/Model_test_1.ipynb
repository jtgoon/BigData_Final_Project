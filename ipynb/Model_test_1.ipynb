{
 "cells": [
  {
   "cell_type": "code",
   "execution_count": null,
   "id": "e9cc3b65",
   "metadata": {},
   "outputs": [],
   "source": [
    "!wget --no-check-certificate \\"
   ]
  },
  {
   "cell_type": "code",
   "execution_count": null,
   "id": "8f5447a2",
   "metadata": {},
   "outputs": [],
   "source": [
    "import matplotlib.pyplot as plt\n",
    "import numpy as np\n",
    "import os\n",
    "import PIL\n",
    "import tensorflow as tf\n",
    "\n",
    "from tensorflow import keras\n",
    "from tensorflow.keras import layers\n",
    "import zipfile"
   ]
  },
  {
   "cell_type": "code",
   "execution_count": null,
   "id": "84b03256",
   "metadata": {},
   "outputs": [],
   "source": [
    "local_zip = \n",
    "\n",
    "zip_ref = zipfile.ZipFile(local_zip, 'r')\n",
    "\n",
    "zip_ref.extractall('/tmp')  #folder name\n",
    "zip_ref.close()"
   ]
  },
  {
   "cell_type": "code",
   "execution_count": null,
   "id": "044cb077",
   "metadata": {},
   "outputs": [],
   "source": [
    "#basic path\n",
    "base_dir = '/tmp/' #file name\n",
    "\n",
    "train_dir = os.path.join(base_dir, 'train')\n",
    "validation_dir = os.path.join(base_dir, 'validation')\n",
    "\n",
    "#training path\n",
    "train_heart_dir = os.path.join(train_dir, 'heart')\n",
    "train_oblong_dir = os.path.join(train_dir, 'oblong')\n",
    "train_triangle_dir = os.path.join(train_dir, 'triangle')\n",
    "train_square_dir = os.path.join(train_dir, 'square')\n",
    "train_round_dir = os.path.join(train_dir, 'round') #face shape category\n",
    "\n",
    "print(train_heart_dir)\n",
    "print(train_oblong_dir)\n",
    "print(train_triangle_dir)\n",
    "print(train_square_dir)\n",
    "print(train_round_dir)\n",
    "\n",
    "#validation path\n",
    "validation_heart_dir = os.path.join(validation_dir, 'heart')\n",
    "validation_oblong_dir = os.path.join(validation_dir, 'oblong')\n",
    "validation_triangle_dir = os.path.join(validation_dir, 'triangle')\n",
    "validation_square_dir = os.path.join(validation_dir, 'square')\n",
    "validation_round_dir = os.path.join(validation_dir, 'round') #face shape category\n",
    "\n",
    "print(validation_heart_dir)\n",
    "print(validation_oblong_dir)\n",
    "print(validation_triangle_dir)\n",
    "print(validation_square_dir)\n",
    "print(validation_round_dir)"
   ]
  },
  {
   "cell_type": "code",
   "execution_count": null,
   "id": "c3fefc71",
   "metadata": {},
   "outputs": [],
   "source": [
    "train_heart_fnames = os.listdir(train_heart_dir)\n",
    "train_oblong_fnames = os.listdir(train_oblong_dir)\n",
    "train_triangle_fnames = os.listdir(train_triangle_dir)\n",
    "train_square_fnames = os.listdir(train_square_dir)\n",
    "train_round_fnames = os.listdir(train_round_dir)\n",
    "\n",
    "print(train_heart_fnames[:5])\n",
    "print(train_oblong_fnames[:5])\n",
    "print(train_triangle_fnames[:5])\n",
    "print(train_square_fnames[:5])\n",
    "print(train_round_fnames[:5])\n",
    "\n",
    "# double check file organisation in list shape"
   ]
  },
  {
   "cell_type": "code",
   "execution_count": null,
   "id": "df543b2d",
   "metadata": {},
   "outputs": [],
   "source": []
  },
  {
   "cell_type": "code",
   "execution_count": null,
   "id": "3839c30c",
   "metadata": {},
   "outputs": [],
   "source": [
    "classes = [\"heart\", \"oblong\", \"triangle\", \"square\", \"round\"]"
   ]
  },
  {
   "cell_type": "markdown",
   "id": "3c4f1f5c",
   "metadata": {},
   "source": [
    "### Model Building"
   ]
  },
  {
   "cell_type": "code",
   "execution_count": null,
   "id": "aeb70d1b",
   "metadata": {},
   "outputs": [],
   "source": [
    "model = keras.Sequential([\n",
    "    keras.layers.Flatten(input_shape=(32, 32, 3)),\n",
    "    keras.layers.Dense(3000, activation ='relu'),\n",
    "    keras.layers.Dense(1000, activation = 'relu'),\n",
    "    keras.layers.Dense(10, activation = 'sigmoid')\n",
    "])\n",
    "# number of neuron can be changed\n",
    "\n",
    "model.compile(optimizer= 'SGD',\n",
    "             loss = 'categorical_crossentropy',\n",
    "             metrics = ['accuracy'])\n",
    "\n",
    "model.fit(X_train_scaled, y_train_categorical, epochs=1) # need to fix the training data and category name\n",
    "\n",
    "# or"
   ]
  },
  {
   "cell_type": "code",
   "execution_count": null,
   "id": "1744b6d7",
   "metadata": {},
   "outputs": [],
   "source": [
    "model = models.Sequential()\n",
    "model.add(layers.Conv2D(32, (3, 3), activation='relu', input_shape=(28, 28, 1)))\n",
    "model.add(layers.MaxPooling2D((2, 2)))\n",
    "model.add(layers.Conv2D(64, (3, 3), activation='relu'))\n",
    "model.add(layers.MaxPooling2D((2, 2)))\n",
    "model.add(layers.Conv2D(64, (3, 3), activation='relu'))\n",
    "model.add(layers.MaxPooling2D(2,2))\n",
    "model.add(layers.Flatten())\n",
    "model.add(layers.Dense(512, activation = 'relu'))\n",
    "model.add(layers.Dense(1, activation='sigmoid'))\n",
    "\n",
    "from tensorflow.keras.optimizers import RMSprop\n",
    "\n",
    "model.compile(optimizer=RMSprop(lr=0.001),\n",
    "             loss=\"crossentropy\",\n",
    "             metrics = ['accuracy'])"
   ]
  },
  {
   "cell_type": "markdown",
   "id": "07e6f18f",
   "metadata": {},
   "source": [
    "### Training"
   ]
  },
  {
   "cell_type": "code",
   "execution_count": null,
   "id": "18f7f46f",
   "metadata": {},
   "outputs": [],
   "source": [
    "categ = model.fit(train_generator, #need name of training file\n",
    "                 validation_data = validation_generator, #need name of validation data\n",
    "                 steps_per_epoch = 100,\n",
    "                 epochs = 100,\n",
    "                 validation_steps = 50,\n",
    "                 verbose=2)  "
   ]
  },
  {
   "cell_type": "markdown",
   "id": "6e745c59",
   "metadata": {},
   "source": [
    "### Accuracy and Loss"
   ]
  },
  {
   "cell_type": "code",
   "execution_count": null,
   "id": "8f019ae9",
   "metadata": {},
   "outputs": [],
   "source": [
    "acc = history.history['accuracy']\n",
    "val_acc = history.history['val_accuracy']\n",
    "loss = history.history['loss']\n",
    "val_loss = history.history['val_loss']\n",
    "\n",
    "epochs = range(len(acc))\n",
    "\n",
    "plt.plot(epochs, acc, 'bo', label='Training accuracy')\n",
    "plt.plot(epochs, val_acc, 'b', label='Validation accuracy')\n",
    "plt.title('Training and validation accuracy')\n",
    "plt.legend()\n",
    "\n",
    "plt.figure()\n",
    "\n",
    "plt.plot(epochs, loss, 'go', label='Training Loss')\n",
    "plt.plot(epochs, val_loss, 'g', label='Validation Loss')\n",
    "plt.title('Training and validation loss')\n",
    "plt.legend()\n",
    "\n",
    "plt.show()\n",
    "\n",
    "## need to fix labels based on preprocessing"
   ]
  },
  {
   "cell_type": "markdown",
   "id": "5b6182f7",
   "metadata": {},
   "source": [
    "### Detect and categorise by model"
   ]
  },
  {
   "cell_type": "code",
   "execution_count": null,
   "id": "83bb6dc0",
   "metadata": {},
   "outputs": [],
   "source": [
    "from google.colab import files  # how are we gonna put the image to our model? need to decide\n",
    "from keras.preprocessing import image\n",
    "\n",
    "uploaded=files.upload()\n",
    "\n",
    "for fn in uploaded.keys():\n",
    "\n",
    "  path='/content/' + fn\n",
    "  img=image.load_img(path, target_size=(150, 150))\n",
    "\n",
    "  x=image.img_to_array(img)\n",
    "  x=np.expand_dims(x, axis=0)\n",
    "  images = np.vstack([x])\n",
    "\n",
    "  classes = model.predict(images, batch_size=10)\n",
    "\n",
    "  print(classes[0])\n",
    "\n",
    "  if classes[0]>0:\n",
    "    print(fn + \" is heart shape\")\n",
    "    elif:\n",
    "        print(fn+ \"is oblong\")\n",
    "    elif:\n",
    "        print(fn+ \"is triangular\")\n",
    "    elif:\n",
    "        print(fn+ \"is squaral\")\n",
    "    else:\n",
    "        print(fn+ \"is round\")\n",
    "\n",
    "# must be editted by preprocessing and data"
   ]
  },
  {
   "cell_type": "code",
   "execution_count": null,
   "id": "15b7672b",
   "metadata": {},
   "outputs": [],
   "source": []
  },
  {
   "cell_type": "code",
   "execution_count": null,
   "id": "b85c485d",
   "metadata": {},
   "outputs": [],
   "source": []
  },
  {
   "cell_type": "code",
   "execution_count": null,
   "id": "cad7980b",
   "metadata": {},
   "outputs": [],
   "source": []
  }
 ],
 "metadata": {
  "kernelspec": {
   "display_name": "Python 3",
   "language": "python",
   "name": "python3"
  },
  "language_info": {
   "codemirror_mode": {
    "name": "ipython",
    "version": 3
   },
   "file_extension": ".py",
   "mimetype": "text/x-python",
   "name": "python",
   "nbconvert_exporter": "python",
   "pygments_lexer": "ipython3",
   "version": "3.8.8"
  }
 },
 "nbformat": 4,
 "nbformat_minor": 5
}
