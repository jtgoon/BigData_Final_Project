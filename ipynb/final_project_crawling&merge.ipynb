{
 "cells": [
  {
   "cell_type": "code",
   "execution_count": 1,
   "id": "95323118",
   "metadata": {},
   "outputs": [],
   "source": [
    "import numpy as np\n",
    "import pandas as pd\n",
    "import matplotlib.pyplot as plt\n",
    "import seaborn as sns\n",
    "import matplotlib.font_manager as fm\n",
    "\n",
    "from matplotlib import rc\n",
    "rc('font',family='AppleGothic')\n",
    "\n",
    "import matplotlib as mpl\n",
    "mpl.rcParams['axes.unicode_minus'] = False\n",
    "from sklearn import linear_model\n",
    "from scipy import stats\n",
    "import statsmodels\n",
    "import statsmodels.api as sm\n",
    "import statsmodels.formula.api as smf\n",
    "import glob\n",
    "import os\n",
    "\n",
    "from selenium import webdriver\n",
    "from selenium.webdriver.common.keys import Keys\n",
    "import time\n",
    "import urllib.request\n",
    "import ssl\n",
    "import requests\n",
    "from urllib.request import urlopen\n",
    "from selenium import webdriver\n",
    "import time\n",
    "import re\n"
   ]
  },
  {
   "cell_type": "code",
   "execution_count": 4,
   "id": "458dd6c1",
   "metadata": {},
   "outputs": [],
   "source": [
    "### 각 연도별 데이터에서 필요 없는 행 열 제거 후 저장\n",
    "\n",
    "def preprocessing(*yeardatas):\n",
    "    for yeardata in yeardatas:\n",
    "        data = pd.read_csv('/Users/hanjaemin/Desktop/Original Data/KOBIS_연도별박스오피스_'+yeardata+'년도.csv')\n",
    "        data = data.drop(index=[0, 1, 2], axis=0)\n",
    "        data = data.rename(columns=data.iloc[0])\n",
    "        data = data.drop(data.index[0])\n",
    "        data = data.drop(columns=['순위'], axis=1)\n",
    "        data = data.drop(columns=['매출액 점유율'], axis=1)\n",
    "        data = data.drop(columns=['대표국적'], axis=1)\n",
    "        data = data.reset_index(drop=True)\n",
    "        data = data.drop(index=[len(data)-1], axis=0)\n",
    "        data = data.head(100)\n",
    "        data.to_csv('/Users/hanjaemin/Desktop/Processing Data/'+yeardata+'.csv',index=False)\n"
   ]
  },
  {
   "cell_type": "code",
   "execution_count": 5,
   "id": "dfaab661",
   "metadata": {},
   "outputs": [],
   "source": [
    "preprocessing('2010', '2011', '2012', '2013','2014', '2015', '2016', '2017', '2018', '2019', '2020')"
   ]
  },
  {
   "cell_type": "code",
   "execution_count": 20,
   "id": "16a98207",
   "metadata": {},
   "outputs": [],
   "source": [
    "### 각 csv파일 합치기\n",
    "\n",
    "input_data = '/Users/hanjaemin/Desktop/Processing Data'\n",
    "output_data = '/Users/hanjaemin/Desktop/Processing Data/2010~2020.csv'\n",
    "\n",
    "data_list = glob.glob(os.path.join(input_data, '20*'))\n",
    "all_data=[]\n",
    "for file in data_list:\n",
    "    df = pd.read_csv(file) \n",
    "    all_data.append(df)\n",
    "\n",
    "combinedata = pd.concat(all_data, axis=0, ignore_index=True)\n",
    "combinedata = combinedata.drop_duplicates(['영화명'])\n",
    "combinedata['매출액']=combinedata['매출액'].str.replace(',','').astype('float')\n",
    "combinedata['관객수']=combinedata['관객수'].str.replace(',','').astype('float')\n",
    "combinedata['상영횟수']=combinedata['상영횟수'].str.replace(',','').astype('float')\n",
    "combinedata['스크린수']=combinedata['스크린수'].str.replace(',','').astype('float')\n",
    "combinedata = combinedata.sort_values(by=['매출액'],axis=0,ascending=False)\n",
    "combinedata.reset_index(drop=True,inplace=True)"
   ]
  },
  {
   "cell_type": "code",
   "execution_count": 21,
   "id": "bb6a8c6e",
   "metadata": {},
   "outputs": [],
   "source": [
    "combinedata.to_csv(output_data,index=False)\n",
    "combinedata.to_excel('output_data.xlsx',index=False)"
   ]
  },
  {
   "cell_type": "code",
   "execution_count": 22,
   "id": "357cc57d",
   "metadata": {},
   "outputs": [],
   "source": [
    "combinedata = pd.read_csv('/Users/hanjaemin/Desktop/Processing Data/2010~2020.csv')"
   ]
  },
  {
   "cell_type": "code",
   "execution_count": 23,
   "id": "bec65985",
   "metadata": {
    "scrolled": true
   },
   "outputs": [
    {
     "data": {
      "text/html": [
       "<div>\n",
       "<style scoped>\n",
       "    .dataframe tbody tr th:only-of-type {\n",
       "        vertical-align: middle;\n",
       "    }\n",
       "\n",
       "    .dataframe tbody tr th {\n",
       "        vertical-align: top;\n",
       "    }\n",
       "\n",
       "    .dataframe thead th {\n",
       "        text-align: right;\n",
       "    }\n",
       "</style>\n",
       "<table border=\"1\" class=\"dataframe\">\n",
       "  <thead>\n",
       "    <tr style=\"text-align: right;\">\n",
       "      <th></th>\n",
       "      <th>영화명</th>\n",
       "      <th>개봉일</th>\n",
       "      <th>매출액</th>\n",
       "      <th>관객수</th>\n",
       "      <th>스크린수</th>\n",
       "      <th>상영횟수</th>\n",
       "      <th>국적</th>\n",
       "      <th>배급사</th>\n",
       "    </tr>\n",
       "  </thead>\n",
       "  <tbody>\n",
       "    <tr>\n",
       "      <th>0</th>\n",
       "      <td>극한직업</td>\n",
       "      <td>2019.1.23</td>\n",
       "      <td>1.396518e+11</td>\n",
       "      <td>16265618.0</td>\n",
       "      <td>2003.0</td>\n",
       "      <td>292584.0</td>\n",
       "      <td>한국</td>\n",
       "      <td>(주)씨제이이엔엠</td>\n",
       "    </tr>\n",
       "    <tr>\n",
       "      <th>1</th>\n",
       "      <td>명량</td>\n",
       "      <td>2014.7.30</td>\n",
       "      <td>1.357484e+11</td>\n",
       "      <td>17613682.0</td>\n",
       "      <td>1587.0</td>\n",
       "      <td>188611.0</td>\n",
       "      <td>한국</td>\n",
       "      <td>(주)씨제이이엔엠</td>\n",
       "    </tr>\n",
       "    <tr>\n",
       "      <th>2</th>\n",
       "      <td>어벤져스: 엔드게임</td>\n",
       "      <td>2019.4.24</td>\n",
       "      <td>1.221827e+11</td>\n",
       "      <td>13934592.0</td>\n",
       "      <td>2835.0</td>\n",
       "      <td>242001.0</td>\n",
       "      <td>미국</td>\n",
       "      <td>월트디즈니컴퍼니코리아 유한책임회사</td>\n",
       "    </tr>\n",
       "    <tr>\n",
       "      <th>3</th>\n",
       "      <td>베테랑</td>\n",
       "      <td>2015.8.5</td>\n",
       "      <td>1.051682e+11</td>\n",
       "      <td>13414009.0</td>\n",
       "      <td>1115.0</td>\n",
       "      <td>199231.0</td>\n",
       "      <td>한국</td>\n",
       "      <td>(주)씨제이이엔엠</td>\n",
       "    </tr>\n",
       "    <tr>\n",
       "      <th>4</th>\n",
       "      <td>신과함께-인과 연</td>\n",
       "      <td>2018.8.1</td>\n",
       "      <td>1.026661e+11</td>\n",
       "      <td>12274996.0</td>\n",
       "      <td>2235.0</td>\n",
       "      <td>179981.0</td>\n",
       "      <td>한국</td>\n",
       "      <td>롯데컬처웍스(주)롯데엔터테인먼트</td>\n",
       "    </tr>\n",
       "    <tr>\n",
       "      <th>...</th>\n",
       "      <td>...</td>\n",
       "      <td>...</td>\n",
       "      <td>...</td>\n",
       "      <td>...</td>\n",
       "      <td>...</td>\n",
       "      <td>...</td>\n",
       "      <td>...</td>\n",
       "      <td>...</td>\n",
       "    </tr>\n",
       "    <tr>\n",
       "      <th>1042</th>\n",
       "      <td>더 프린세스 : 도둑맞은 공주</td>\n",
       "      <td>2020.8.12</td>\n",
       "      <td>4.574497e+08</td>\n",
       "      <td>55828.0</td>\n",
       "      <td>423.0</td>\n",
       "      <td>4192.0</td>\n",
       "      <td>우크라이나</td>\n",
       "      <td>(주)팝엔터테인먼트</td>\n",
       "    </tr>\n",
       "    <tr>\n",
       "      <th>1043</th>\n",
       "      <td>프리키 데스데이</td>\n",
       "      <td>2020.11.25</td>\n",
       "      <td>4.512257e+08</td>\n",
       "      <td>51812.0</td>\n",
       "      <td>631.0</td>\n",
       "      <td>12882.0</td>\n",
       "      <td>미국</td>\n",
       "      <td>유니버설픽쳐스인터내셔널 코리아(유)</td>\n",
       "    </tr>\n",
       "    <tr>\n",
       "      <th>1044</th>\n",
       "      <td>날씨의 아이</td>\n",
       "      <td>2019.10.30</td>\n",
       "      <td>4.449562e+08</td>\n",
       "      <td>58968.0</td>\n",
       "      <td>194.0</td>\n",
       "      <td>5921.0</td>\n",
       "      <td>일본</td>\n",
       "      <td>메가박스중앙(주)플러스엠,(주)미디어캐슬,워터홀컴퍼니(주)</td>\n",
       "    </tr>\n",
       "    <tr>\n",
       "      <th>1045</th>\n",
       "      <td>눈의 여왕4</td>\n",
       "      <td>2019.12.24</td>\n",
       "      <td>4.446496e+08</td>\n",
       "      <td>67159.0</td>\n",
       "      <td>271.0</td>\n",
       "      <td>2239.0</td>\n",
       "      <td>러시아</td>\n",
       "      <td>(주)넥스트엔터테인먼트월드(NEW)</td>\n",
       "    </tr>\n",
       "    <tr>\n",
       "      <th>1046</th>\n",
       "      <td>다크 나이트</td>\n",
       "      <td>2008.8.6</td>\n",
       "      <td>4.071936e+08</td>\n",
       "      <td>51681.0</td>\n",
       "      <td>378.0</td>\n",
       "      <td>4445.0</td>\n",
       "      <td>미국</td>\n",
       "      <td>주식회사 해리슨앤컴퍼니,워너브러더스 코리아(주)</td>\n",
       "    </tr>\n",
       "  </tbody>\n",
       "</table>\n",
       "<p>1047 rows × 8 columns</p>\n",
       "</div>"
      ],
      "text/plain": [
       "                   영화명         개봉일           매출액         관객수    스크린수  \\\n",
       "0                 극한직업   2019.1.23  1.396518e+11  16265618.0  2003.0   \n",
       "1                   명량   2014.7.30  1.357484e+11  17613682.0  1587.0   \n",
       "2           어벤져스: 엔드게임   2019.4.24  1.221827e+11  13934592.0  2835.0   \n",
       "3                  베테랑    2015.8.5  1.051682e+11  13414009.0  1115.0   \n",
       "4            신과함께-인과 연    2018.8.1  1.026661e+11  12274996.0  2235.0   \n",
       "...                ...         ...           ...         ...     ...   \n",
       "1042  더 프린세스 : 도둑맞은 공주   2020.8.12  4.574497e+08     55828.0   423.0   \n",
       "1043          프리키 데스데이  2020.11.25  4.512257e+08     51812.0   631.0   \n",
       "1044            날씨의 아이  2019.10.30  4.449562e+08     58968.0   194.0   \n",
       "1045            눈의 여왕4  2019.12.24  4.446496e+08     67159.0   271.0   \n",
       "1046            다크 나이트    2008.8.6  4.071936e+08     51681.0   378.0   \n",
       "\n",
       "          상영횟수     국적                               배급사  \n",
       "0     292584.0     한국                         (주)씨제이이엔엠  \n",
       "1     188611.0     한국                         (주)씨제이이엔엠  \n",
       "2     242001.0     미국                월트디즈니컴퍼니코리아 유한책임회사  \n",
       "3     199231.0     한국                         (주)씨제이이엔엠  \n",
       "4     179981.0     한국                 롯데컬처웍스(주)롯데엔터테인먼트  \n",
       "...        ...    ...                               ...  \n",
       "1042    4192.0  우크라이나                        (주)팝엔터테인먼트  \n",
       "1043   12882.0     미국               유니버설픽쳐스인터내셔널 코리아(유)  \n",
       "1044    5921.0     일본  메가박스중앙(주)플러스엠,(주)미디어캐슬,워터홀컴퍼니(주)  \n",
       "1045    2239.0    러시아               (주)넥스트엔터테인먼트월드(NEW)  \n",
       "1046    4445.0     미국        주식회사 해리슨앤컴퍼니,워너브러더스 코리아(주)  \n",
       "\n",
       "[1047 rows x 8 columns]"
      ]
     },
     "execution_count": 23,
     "metadata": {},
     "output_type": "execute_result"
    }
   ],
   "source": [
    "combinedata"
   ]
  },
  {
   "cell_type": "code",
   "execution_count": 8,
   "id": "55be4115",
   "metadata": {},
   "outputs": [
    {
     "data": {
      "text/plain": [
       "0                   극한직업\n",
       "1                     명량\n",
       "2             어벤져스: 엔드게임\n",
       "3                    베테랑\n",
       "4              신과함께-인과 연\n",
       "              ...       \n",
       "1042    더 프린세스 : 도둑맞은 공주\n",
       "1043            프리키 데스데이\n",
       "1044              날씨의 아이\n",
       "1045              눈의 여왕4\n",
       "1046              다크 나이트\n",
       "Name: 영화명, Length: 1047, dtype: object"
      ]
     },
     "execution_count": 8,
     "metadata": {},
     "output_type": "execute_result"
    }
   ],
   "source": [
    "movie_list=combinedata['영화명']\n",
    "movie_list"
   ]
  },
  {
   "cell_type": "code",
   "execution_count": 21,
   "id": "e7499d7d",
   "metadata": {},
   "outputs": [],
   "source": [
    "### 영화 이름, 장르 , 감독, 주연배우, 영화등급 crawling \n",
    "\n",
    "name_list = []\n",
    "genre_list = []\n",
    "director_list = []\n",
    "actor_list = []\n",
    "film_rank_list = []\n"
   ]
  },
  {
   "cell_type": "code",
   "execution_count": 22,
   "id": "097f9fbd",
   "metadata": {},
   "outputs": [],
   "source": [
    "## 특정 url로 request하거나 urlopen시 아래와 같은 에러가 발생하는 경우해결\n",
    "ssl._create_default_https_context = ssl._create_unverified_context\n",
    "\n",
    "driver = webdriver.Chrome('/Users/hanjaemin/PycharmProjects/acorn/chromedriver')\n",
    "driver.get(\"https://movie.naver.com/\")"
   ]
  },
  {
   "cell_type": "code",
   "execution_count": 23,
   "id": "69778f83",
   "metadata": {},
   "outputs": [],
   "source": [
    "for movie in movie_list:\n",
    "    elem = driver.find_element_by_id(\"ipt_tx_srch\")\n",
    "    elem.send_keys(movie)\n",
    "    time.sleep(1)\n",
    "    try:\n",
    "        path = driver.find_element_by_xpath('//*[@id=\"jAutoMV\"]/ul/li[1]/a')\n",
    "        path.click()\n",
    "        \n",
    "    except:\n",
    "        elem.send_keys(Keys.RETURN)\n",
    "        driver.find_element_by_xpath('//*[@id=\"old_content\"]/ul[2]/li[1]/dl/dt/a').click()\n",
    "\n",
    "    name = driver.find_elements_by_css_selector('#content > div.article > div.mv_info_area > div.mv_info > h3 > a')\n",
    "\n",
    "    genre = driver.find_elements_by_css_selector('#content > div.article > div.mv_info_area > div.mv_info > dl > dd:nth-child(2) > p > span:nth-child(1) > a:nth-child(1)')\n",
    "\n",
    "    actor = driver.find_elements_by_css_selector('#content > div.article > div.mv_info_area > div.mv_info > dl > dd:nth-child(6) > p')\n",
    "\n",
    "    director = driver.find_elements_by_css_selector('#content > div.article > div.mv_info_area > div.mv_info > dl > dd:nth-child(4) > p > a')\n",
    "\n",
    "    film_rank = driver.find_elements_by_css_selector('#content > div.article > div.mv_info_area > div.mv_info > dl > dd:nth-child(8) > p')\n",
    "\n",
    "\n",
    "    if len(name) == 0 :\n",
    "        name_list.append('')\n",
    "    else:\n",
    "        for i in range(len(name)):\n",
    "            name_list.append(name[i].text)\n",
    "\n",
    "\n",
    "    if len(genre) == 0 :\n",
    "        genre_list.append('')\n",
    "    else:\n",
    "        for i in range(len(genre)):\n",
    "            genre_list.append(genre[i].text)\n",
    "\n",
    "\n",
    "    if len(actor) == 0 :\n",
    "        actor_list.append('')\n",
    "    else:\n",
    "        for i in range(len(actor)):\n",
    "            actor_list.append(actor[i].text)\n",
    "\n",
    "\n",
    "    if len(director) == 0 :\n",
    "        director_list.append('')\n",
    "    else:\n",
    "        for i in range(len(director)):\n",
    "            if i == 1:\n",
    "                break\n",
    "            director_list.append(director[i].text)\n",
    "\n",
    "\n",
    "    if len(film_rank) == 0 :\n",
    "        film_rank_list.append('')\n",
    "    else:\n",
    "        for i in range(len(film_rank)):\n",
    "            film_rank_list.append(film_rank[i].text)\n",
    "\n",
    "\n"
   ]
  },
  {
   "cell_type": "code",
   "execution_count": 24,
   "id": "af1bc047",
   "metadata": {},
   "outputs": [
    {
     "data": {
      "text/plain": [
       "1047"
      ]
     },
     "execution_count": 24,
     "metadata": {},
     "output_type": "execute_result"
    }
   ],
   "source": [
    "len(film_rank_list)"
   ]
  },
  {
   "cell_type": "code",
   "execution_count": 41,
   "id": "25e638a6",
   "metadata": {},
   "outputs": [
    {
     "data": {
      "text/plain": [
       "1047"
      ]
     },
     "execution_count": 41,
     "metadata": {},
     "output_type": "execute_result"
    }
   ],
   "source": [
    "len(name_list)"
   ]
  },
  {
   "cell_type": "code",
   "execution_count": 26,
   "id": "aff95abd",
   "metadata": {},
   "outputs": [
    {
     "data": {
      "text/plain": [
       "1047"
      ]
     },
     "execution_count": 26,
     "metadata": {},
     "output_type": "execute_result"
    }
   ],
   "source": [
    "len(genre_list)"
   ]
  },
  {
   "cell_type": "code",
   "execution_count": 27,
   "id": "74dc8051",
   "metadata": {},
   "outputs": [
    {
     "data": {
      "text/plain": [
       "1047"
      ]
     },
     "execution_count": 27,
     "metadata": {},
     "output_type": "execute_result"
    }
   ],
   "source": [
    "len(director_list)"
   ]
  },
  {
   "cell_type": "code",
   "execution_count": 28,
   "id": "8e6387ef",
   "metadata": {},
   "outputs": [
    {
     "data": {
      "text/plain": [
       "1047"
      ]
     },
     "execution_count": 28,
     "metadata": {},
     "output_type": "execute_result"
    }
   ],
   "source": [
    "len(genre_list)"
   ]
  },
  {
   "cell_type": "code",
   "execution_count": 29,
   "id": "c39e6d8c",
   "metadata": {},
   "outputs": [
    {
     "data": {
      "text/plain": [
       "1047"
      ]
     },
     "execution_count": 29,
     "metadata": {},
     "output_type": "execute_result"
    }
   ],
   "source": [
    "len(actor_list)"
   ]
  },
  {
   "cell_type": "code",
   "execution_count": 49,
   "id": "734a7133",
   "metadata": {},
   "outputs": [],
   "source": [
    "data={'director':director_list,\n",
    "      'genre':genre_list,\n",
    "      'actor':actor_list,\n",
    "      'filmrank':film_rank_list}\n",
    "crawling_data=pd.DataFrame(data)"
   ]
  },
  {
   "cell_type": "code",
   "execution_count": 50,
   "id": "525f6dd9",
   "metadata": {},
   "outputs": [
    {
     "data": {
      "text/html": [
       "<div>\n",
       "<style scoped>\n",
       "    .dataframe tbody tr th:only-of-type {\n",
       "        vertical-align: middle;\n",
       "    }\n",
       "\n",
       "    .dataframe tbody tr th {\n",
       "        vertical-align: top;\n",
       "    }\n",
       "\n",
       "    .dataframe thead th {\n",
       "        text-align: right;\n",
       "    }\n",
       "</style>\n",
       "<table border=\"1\" class=\"dataframe\">\n",
       "  <thead>\n",
       "    <tr style=\"text-align: right;\">\n",
       "      <th></th>\n",
       "      <th>director</th>\n",
       "      <th>genre</th>\n",
       "      <th>actor</th>\n",
       "      <th>filmrank</th>\n",
       "    </tr>\n",
       "  </thead>\n",
       "  <tbody>\n",
       "    <tr>\n",
       "      <th>0</th>\n",
       "      <td>이병헌</td>\n",
       "      <td>코미디</td>\n",
       "      <td>류승룡(고반장), 이하늬(장형사), 진선규(마형사)</td>\n",
       "      <td>[국내] 15세 관람가</td>\n",
       "    </tr>\n",
       "    <tr>\n",
       "      <th>1</th>\n",
       "      <td>정세교</td>\n",
       "      <td>다큐멘터리</td>\n",
       "      <td>김한민, 오타니 료헤이, 이해영</td>\n",
       "      <td>[국내] 12세 관람가</td>\n",
       "    </tr>\n",
       "    <tr>\n",
       "      <th>2</th>\n",
       "      <td>안소니 루소</td>\n",
       "      <td>액션</td>\n",
       "      <td>로버트 다우니 주니어(토니 스타크 / 아이언맨), 크리스 에반스(스티브 로저스 / ...</td>\n",
       "      <td>[국내] 12세 관람가</td>\n",
       "    </tr>\n",
       "    <tr>\n",
       "      <th>3</th>\n",
       "      <td>류승완</td>\n",
       "      <td>액션</td>\n",
       "      <td>황정민(서도철), 유아인(조태오), 유해진(최상무)</td>\n",
       "      <td>[국내] 15세 관람가</td>\n",
       "    </tr>\n",
       "    <tr>\n",
       "      <th>4</th>\n",
       "      <td>김용화</td>\n",
       "      <td>판타지</td>\n",
       "      <td>하정우(강림), 주지훈(해원맥), 김향기(덕춘)</td>\n",
       "      <td>[국내] 12세 관람가</td>\n",
       "    </tr>\n",
       "    <tr>\n",
       "      <th>...</th>\n",
       "      <td>...</td>\n",
       "      <td>...</td>\n",
       "      <td>...</td>\n",
       "      <td>...</td>\n",
       "    </tr>\n",
       "    <tr>\n",
       "      <th>1042</th>\n",
       "      <td>올레 말라므</td>\n",
       "      <td>애니메이션</td>\n",
       "      <td>사문영(밀라 목소리), 남도형(루슬란 목소리), 서반석(레스터 목소리)</td>\n",
       "      <td>[국내] 전체 관람가</td>\n",
       "    </tr>\n",
       "    <tr>\n",
       "      <th>1043</th>\n",
       "      <td>크리스토퍼 랜던</td>\n",
       "      <td>코미디</td>\n",
       "      <td>빈스 본, 캐서린 뉴튼</td>\n",
       "      <td>[국내] 15세 관람가</td>\n",
       "    </tr>\n",
       "    <tr>\n",
       "      <th>1044</th>\n",
       "      <td>신카이 마코토</td>\n",
       "      <td>애니메이션</td>\n",
       "      <td>심규혁(호다카), 김유림(히나), 최한(스가)</td>\n",
       "      <td>[국내] 15세 관람가</td>\n",
       "    </tr>\n",
       "    <tr>\n",
       "      <th>1045</th>\n",
       "      <td>로버트 렌스</td>\n",
       "      <td>애니메이션</td>\n",
       "      <td>양정화(눈의 여왕 한국어 목소리), 박지윤(겔다 한국어 목소리), 임채헌(헤럴드 한...</td>\n",
       "      <td>[국내] 전체 관람가</td>\n",
       "    </tr>\n",
       "    <tr>\n",
       "      <th>1046</th>\n",
       "      <td>크리스토퍼 놀란</td>\n",
       "      <td>액션</td>\n",
       "      <td>크리스찬 베일(브루스 웨인/배트맨), 히스 레저(조커), 아론 에크하트(하비 덴트/...</td>\n",
       "      <td>[국내] 15세 관람가 [해외] PG-13</td>\n",
       "    </tr>\n",
       "  </tbody>\n",
       "</table>\n",
       "<p>1047 rows × 4 columns</p>\n",
       "</div>"
      ],
      "text/plain": [
       "      director  genre                                              actor  \\\n",
       "0          이병헌    코미디                       류승룡(고반장), 이하늬(장형사), 진선규(마형사)   \n",
       "1          정세교  다큐멘터리                                  김한민, 오타니 료헤이, 이해영   \n",
       "2       안소니 루소     액션  로버트 다우니 주니어(토니 스타크 / 아이언맨), 크리스 에반스(스티브 로저스 / ...   \n",
       "3          류승완     액션                       황정민(서도철), 유아인(조태오), 유해진(최상무)   \n",
       "4          김용화    판타지                         하정우(강림), 주지훈(해원맥), 김향기(덕춘)   \n",
       "...        ...    ...                                                ...   \n",
       "1042    올레 말라므  애니메이션            사문영(밀라 목소리), 남도형(루슬란 목소리), 서반석(레스터 목소리)   \n",
       "1043  크리스토퍼 랜던    코미디                                       빈스 본, 캐서린 뉴튼   \n",
       "1044   신카이 마코토  애니메이션                          심규혁(호다카), 김유림(히나), 최한(스가)   \n",
       "1045    로버트 렌스  애니메이션  양정화(눈의 여왕 한국어 목소리), 박지윤(겔다 한국어 목소리), 임채헌(헤럴드 한...   \n",
       "1046  크리스토퍼 놀란     액션  크리스찬 베일(브루스 웨인/배트맨), 히스 레저(조커), 아론 에크하트(하비 덴트/...   \n",
       "\n",
       "                     filmrank  \n",
       "0                [국내] 15세 관람가  \n",
       "1                [국내] 12세 관람가  \n",
       "2                [국내] 12세 관람가  \n",
       "3                [국내] 15세 관람가  \n",
       "4                [국내] 12세 관람가  \n",
       "...                       ...  \n",
       "1042              [국내] 전체 관람가  \n",
       "1043             [국내] 15세 관람가  \n",
       "1044             [국내] 15세 관람가  \n",
       "1045              [국내] 전체 관람가  \n",
       "1046  [국내] 15세 관람가 [해외] PG-13  \n",
       "\n",
       "[1047 rows x 4 columns]"
      ]
     },
     "execution_count": 50,
     "metadata": {},
     "output_type": "execute_result"
    }
   ],
   "source": [
    "crawling_data"
   ]
  },
  {
   "cell_type": "code",
   "execution_count": 51,
   "id": "b6bdb7b9",
   "metadata": {},
   "outputs": [],
   "source": [
    "crawling_data.to_csv('crawling_data.csv',index=False)\n",
    "crawling_data.to_excel('crawling_data.xlsx',index=False)"
   ]
  },
  {
   "cell_type": "code",
   "execution_count": 52,
   "id": "3940deac",
   "metadata": {},
   "outputs": [],
   "source": [
    "final_data = pd.concat([combinedata, crawling_data], axis=1)"
   ]
  },
  {
   "cell_type": "code",
   "execution_count": 53,
   "id": "f6a8a49f",
   "metadata": {},
   "outputs": [],
   "source": [
    "final_data.rename(columns={'영화명': 'moviename',\n",
    "                          '개봉일' : 'openingdate',\n",
    "                          '매출액' : 'sales',\n",
    "                          '관객수' : 'attendance',\n",
    "                          '스크린수' : 'screen',\n",
    "                          '상영횟수' : 'playcount',\n",
    "                          '국적' : 'country',\n",
    "                          '배급사' : 'distributor'},inplace=True)"
   ]
  },
  {
   "cell_type": "code",
   "execution_count": 24,
   "id": "98d88751",
   "metadata": {},
   "outputs": [],
   "source": [
    "final_data=pd.read_csv('/Users/hanjaemin/Desktop/final_project/BigData_Final_Project/data/movie_data/final_data.csv')"
   ]
  },
  {
   "cell_type": "code",
   "execution_count": 34,
   "id": "1be03747",
   "metadata": {},
   "outputs": [],
   "source": [
    "final_data.to_csv('/Users/hanjaemin/Desktop/final_project/BigData_Final_Project/data/movie_data/merge_data.csv',index=False)\n",
    "final_data.to_excel('/Users/hanjaemin/Desktop/final_project/BigData_Final_Project/data/movie_data/merge_data.xlsx',index=False)"
   ]
  }
 ],
 "metadata": {
  "kernelspec": {
   "display_name": "Python 3",
   "language": "python",
   "name": "python3"
  },
  "language_info": {
   "codemirror_mode": {
    "name": "ipython",
    "version": 3
   },
   "file_extension": ".py",
   "mimetype": "text/x-python",
   "name": "python",
   "nbconvert_exporter": "python",
   "pygments_lexer": "ipython3",
   "version": "3.7.0"
  }
 },
 "nbformat": 4,
 "nbformat_minor": 5
}
